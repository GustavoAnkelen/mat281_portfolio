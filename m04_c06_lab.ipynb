{
 "cells": [
  {
   "cell_type": "markdown",
   "metadata": {
    "Collapsed": "false",
    "slideshow": {
     "slide_type": "slide"
    }
   },
   "source": [
    "<img src=\"https://upload.wikimedia.org/wikipedia/commons/4/47/Logo_UTFSM.png\" width=\"200\" alt=\"utfsm-logo\" align=\"left\"/>\n",
    "\n",
    "# MAT281\n",
    "### Aplicaciones de la Matemática en la Ingeniería"
   ]
  },
  {
   "cell_type": "markdown",
   "metadata": {
    "Collapsed": "false",
    "slideshow": {
     "slide_type": "slide"
    }
   },
   "source": [
    "## Módulo 04\n",
    "## Laboratorio Clase 06: Proyectos de Machine Learning"
   ]
  },
  {
   "cell_type": "markdown",
   "metadata": {
    "Collapsed": "false"
   },
   "source": [
    "### Instrucciones\n",
    "\n",
    "\n",
    "* Completa tus datos personales (nombre y rol USM) en siguiente celda.\n",
    "* La escala es de 0 a 4 considerando solo valores enteros.\n",
    "* Debes _pushear_ tus cambios a tu repositorio personal del curso.\n",
    "* Como respaldo, debes enviar un archivo .zip con el siguiente formato `mXX_cYY_lab_apellido_nombre.zip` a alonso.ogueda@gmail.com, debe contener todo lo necesario para que se ejecute correctamente cada celda, ya sea datos, imágenes, scripts, etc.\n",
    "* Se evaluará:\n",
    "    - Soluciones\n",
    "    - Código\n",
    "    - Que Binder esté bien configurado.\n",
    "    - Al presionar  `Kernel -> Restart Kernel and Run All Cells` deben ejecutarse todas las celdas sin error.\n",
    "* __La entrega es al final de esta clase.__"
   ]
  },
  {
   "cell_type": "markdown",
   "metadata": {
    "Collapsed": "false"
   },
   "source": [
    "__Nombre__: Gustavo Arcaya Espinosa\n",
    "\n",
    "__Rol__: 201610001-6"
   ]
  },
  {
   "cell_type": "markdown",
   "metadata": {
    "Collapsed": "false"
   },
   "source": [
    "## GapMinder"
   ]
  },
  {
   "cell_type": "code",
   "execution_count": 1,
   "metadata": {
    "Collapsed": "false"
   },
   "outputs": [],
   "source": [
    "import pandas as pd\n",
    "import altair as alt\n",
    "import numpy as np\n",
    "from vega_datasets import data\n",
    "\n",
    "alt.themes.enable('opaque')\n",
    "\n",
    "%matplotlib inline"
   ]
  },
  {
   "cell_type": "code",
   "execution_count": 2,
   "metadata": {
    "Collapsed": "false"
   },
   "outputs": [
    {
     "data": {
      "text/html": [
       "<div>\n",
       "<style scoped>\n",
       "    .dataframe tbody tr th:only-of-type {\n",
       "        vertical-align: middle;\n",
       "    }\n",
       "\n",
       "    .dataframe tbody tr th {\n",
       "        vertical-align: top;\n",
       "    }\n",
       "\n",
       "    .dataframe thead th {\n",
       "        text-align: right;\n",
       "    }\n",
       "</style>\n",
       "<table border=\"1\" class=\"dataframe\">\n",
       "  <thead>\n",
       "    <tr style=\"text-align: right;\">\n",
       "      <th></th>\n",
       "      <th>country</th>\n",
       "      <th>income</th>\n",
       "      <th>health</th>\n",
       "      <th>population</th>\n",
       "    </tr>\n",
       "  </thead>\n",
       "  <tbody>\n",
       "    <tr>\n",
       "      <th>0</th>\n",
       "      <td>Afghanistan</td>\n",
       "      <td>1925</td>\n",
       "      <td>57.63</td>\n",
       "      <td>32526562</td>\n",
       "    </tr>\n",
       "    <tr>\n",
       "      <th>1</th>\n",
       "      <td>Albania</td>\n",
       "      <td>10620</td>\n",
       "      <td>76.00</td>\n",
       "      <td>2896679</td>\n",
       "    </tr>\n",
       "    <tr>\n",
       "      <th>2</th>\n",
       "      <td>Algeria</td>\n",
       "      <td>13434</td>\n",
       "      <td>76.50</td>\n",
       "      <td>39666519</td>\n",
       "    </tr>\n",
       "    <tr>\n",
       "      <th>3</th>\n",
       "      <td>Andorra</td>\n",
       "      <td>46577</td>\n",
       "      <td>84.10</td>\n",
       "      <td>70473</td>\n",
       "    </tr>\n",
       "    <tr>\n",
       "      <th>4</th>\n",
       "      <td>Angola</td>\n",
       "      <td>7615</td>\n",
       "      <td>61.00</td>\n",
       "      <td>25021974</td>\n",
       "    </tr>\n",
       "  </tbody>\n",
       "</table>\n",
       "</div>"
      ],
      "text/plain": [
       "       country  income  health  population\n",
       "0  Afghanistan    1925   57.63    32526562\n",
       "1      Albania   10620   76.00     2896679\n",
       "2      Algeria   13434   76.50    39666519\n",
       "3      Andorra   46577   84.10       70473\n",
       "4       Angola    7615   61.00    25021974"
      ]
     },
     "execution_count": 2,
     "metadata": {},
     "output_type": "execute_result"
    }
   ],
   "source": [
    "gapminder = data.gapminder_health_income()\n",
    "gapminder.head()"
   ]
  },
  {
   "cell_type": "markdown",
   "metadata": {
    "Collapsed": "false"
   },
   "source": [
    "### 1. Análisis exploratorio (1 pto)\n",
    "\n",
    "Como mínimo, realizar un `describe` del dataframe y una visualización adecuada, una _scatter matrix_ con los valores numéricos."
   ]
  },
  {
   "cell_type": "code",
   "execution_count": 3,
   "metadata": {
    "Collapsed": "false"
   },
   "outputs": [
    {
     "data": {
      "text/html": [
       "<div>\n",
       "<style scoped>\n",
       "    .dataframe tbody tr th:only-of-type {\n",
       "        vertical-align: middle;\n",
       "    }\n",
       "\n",
       "    .dataframe tbody tr th {\n",
       "        vertical-align: top;\n",
       "    }\n",
       "\n",
       "    .dataframe thead th {\n",
       "        text-align: right;\n",
       "    }\n",
       "</style>\n",
       "<table border=\"1\" class=\"dataframe\">\n",
       "  <thead>\n",
       "    <tr style=\"text-align: right;\">\n",
       "      <th></th>\n",
       "      <th>income</th>\n",
       "      <th>health</th>\n",
       "      <th>population</th>\n",
       "    </tr>\n",
       "  </thead>\n",
       "  <tbody>\n",
       "    <tr>\n",
       "      <th>count</th>\n",
       "      <td>187.000000</td>\n",
       "      <td>187.000000</td>\n",
       "      <td>1.870000e+02</td>\n",
       "    </tr>\n",
       "    <tr>\n",
       "      <th>mean</th>\n",
       "      <td>17232.240642</td>\n",
       "      <td>71.673262</td>\n",
       "      <td>3.908887e+07</td>\n",
       "    </tr>\n",
       "    <tr>\n",
       "      <th>std</th>\n",
       "      <td>19310.632882</td>\n",
       "      <td>7.748959</td>\n",
       "      <td>1.432898e+08</td>\n",
       "    </tr>\n",
       "    <tr>\n",
       "      <th>min</th>\n",
       "      <td>599.000000</td>\n",
       "      <td>48.500000</td>\n",
       "      <td>5.299300e+04</td>\n",
       "    </tr>\n",
       "    <tr>\n",
       "      <th>25%</th>\n",
       "      <td>3585.500000</td>\n",
       "      <td>65.500000</td>\n",
       "      <td>2.248920e+06</td>\n",
       "    </tr>\n",
       "    <tr>\n",
       "      <th>50%</th>\n",
       "      <td>10996.000000</td>\n",
       "      <td>73.130000</td>\n",
       "      <td>8.544586e+06</td>\n",
       "    </tr>\n",
       "    <tr>\n",
       "      <th>75%</th>\n",
       "      <td>23834.000000</td>\n",
       "      <td>77.700000</td>\n",
       "      <td>2.769388e+07</td>\n",
       "    </tr>\n",
       "    <tr>\n",
       "      <th>max</th>\n",
       "      <td>132877.000000</td>\n",
       "      <td>84.100000</td>\n",
       "      <td>1.376049e+09</td>\n",
       "    </tr>\n",
       "  </tbody>\n",
       "</table>\n",
       "</div>"
      ],
      "text/plain": [
       "              income      health    population\n",
       "count     187.000000  187.000000  1.870000e+02\n",
       "mean    17232.240642   71.673262  3.908887e+07\n",
       "std     19310.632882    7.748959  1.432898e+08\n",
       "min       599.000000   48.500000  5.299300e+04\n",
       "25%      3585.500000   65.500000  2.248920e+06\n",
       "50%     10996.000000   73.130000  8.544586e+06\n",
       "75%     23834.000000   77.700000  2.769388e+07\n",
       "max    132877.000000   84.100000  1.376049e+09"
      ]
     },
     "execution_count": 3,
     "metadata": {},
     "output_type": "execute_result"
    }
   ],
   "source": [
    "gapminder.describe()"
   ]
  },
  {
   "cell_type": "code",
   "execution_count": 4,
   "metadata": {
    "Collapsed": "false"
   },
   "outputs": [
    {
     "data": {
      "application/vnd.vegalite.v3+json": {
       "$schema": "https://vega.github.io/schema/vega-lite/v3.4.0.json",
       "config": {
        "background": "white",
        "mark": {
         "tooltip": null
        },
        "view": {
         "height": 300,
         "width": 400
        }
       },
       "datasets": {
        "data-7e3b7ef5d72a8470b0044710e8a24cca": [
         {
          "country": "Afghanistan",
          "health": 57.63,
          "income": 1925,
          "population": 32526562
         },
         {
          "country": "Albania",
          "health": 76,
          "income": 10620,
          "population": 2896679
         },
         {
          "country": "Algeria",
          "health": 76.5,
          "income": 13434,
          "population": 39666519
         },
         {
          "country": "Andorra",
          "health": 84.1,
          "income": 46577,
          "population": 70473
         },
         {
          "country": "Angola",
          "health": 61,
          "income": 7615,
          "population": 25021974
         },
         {
          "country": "Antigua and Barbuda",
          "health": 75.2,
          "income": 21049,
          "population": 91818
         },
         {
          "country": "Argentina",
          "health": 76.2,
          "income": 17344,
          "population": 43416755
         },
         {
          "country": "Armenia",
          "health": 74.4,
          "income": 7763,
          "population": 3017712
         },
         {
          "country": "Australia",
          "health": 81.8,
          "income": 44056,
          "population": 23968973
         },
         {
          "country": "Austria",
          "health": 81,
          "income": 44401,
          "population": 8544586
         },
         {
          "country": "Azerbaijan",
          "health": 72.9,
          "income": 16986,
          "population": 9753968
         },
         {
          "country": "Bahamas",
          "health": 72.3,
          "income": 22818,
          "population": 388019
         },
         {
          "country": "Bahrain",
          "health": 79.2,
          "income": 44138,
          "population": 1377237
         },
         {
          "country": "Bangladesh",
          "health": 70.1,
          "income": 3161,
          "population": 160995642
         },
         {
          "country": "Barbados",
          "health": 75.8,
          "income": 12984,
          "population": 284215
         },
         {
          "country": "Belarus",
          "health": 70.4,
          "income": 17415,
          "population": 9495826
         },
         {
          "country": "Belgium",
          "health": 80.4,
          "income": 41240,
          "population": 11299192
         },
         {
          "country": "Belize",
          "health": 70,
          "income": 8501,
          "population": 359287
         },
         {
          "country": "Benin",
          "health": 65.5,
          "income": 1830,
          "population": 10879829
         },
         {
          "country": "Bhutan",
          "health": 70.2,
          "income": 7983,
          "population": 774830
         },
         {
          "country": "Bolivia",
          "health": 72.3,
          "income": 6295,
          "population": 10724705
         },
         {
          "country": "Bosnia and Herzegovina",
          "health": 77.9,
          "income": 9833,
          "population": 3810416
         },
         {
          "country": "Botswana",
          "health": 66.4,
          "income": 17196,
          "population": 2262485
         },
         {
          "country": "Brazil",
          "health": 75.6,
          "income": 15441,
          "population": 207847528
         },
         {
          "country": "Brunei",
          "health": 78.7,
          "income": 73003,
          "population": 423188
         },
         {
          "country": "Bulgaria",
          "health": 74.9,
          "income": 16371,
          "population": 7149787
         },
         {
          "country": "Burkina Faso",
          "health": 62.8,
          "income": 1654,
          "population": 18105570
         },
         {
          "country": "Burundi",
          "health": 60.4,
          "income": 777,
          "population": 11178921
         },
         {
          "country": "Cambodia",
          "health": 68.4,
          "income": 3267,
          "population": 15577899
         },
         {
          "country": "Cameroon",
          "health": 59.5,
          "income": 2897,
          "population": 23344179
         },
         {
          "country": "Canada",
          "health": 81.7,
          "income": 43294,
          "population": 35939927
         },
         {
          "country": "Cape Verde",
          "health": 74.6,
          "income": 6514,
          "population": 520502
         },
         {
          "country": "Central African Republic",
          "health": 53.8,
          "income": 599,
          "population": 4900274
         },
         {
          "country": "Chad",
          "health": 57.7,
          "income": 2191,
          "population": 14037472
         },
         {
          "country": "Chile",
          "health": 79.3,
          "income": 22465,
          "population": 17948141
         },
         {
          "country": "China",
          "health": 76.9,
          "income": 13334,
          "population": 1376048943
         },
         {
          "country": "Colombia",
          "health": 75.8,
          "income": 12761,
          "population": 48228704
         },
         {
          "country": "Comoros",
          "health": 64.1,
          "income": 1472,
          "population": 788474
         },
         {
          "country": "Congo, Dem. Rep.",
          "health": 58.3,
          "income": 809,
          "population": 77266814
         },
         {
          "country": "Congo, Rep.",
          "health": 61.9,
          "income": 6220,
          "population": 4620330
         },
         {
          "country": "Costa Rica",
          "health": 80,
          "income": 14132,
          "population": 4807850
         },
         {
          "country": "Cote d'Ivoire",
          "health": 60.33,
          "income": 3491,
          "population": 22701556
         },
         {
          "country": "Croatia",
          "health": 78,
          "income": 20260,
          "population": 4240317
         },
         {
          "country": "Cuba",
          "health": 78.5,
          "income": 21291,
          "population": 11389562
         },
         {
          "country": "Cyprus",
          "health": 82.6,
          "income": 29797,
          "population": 1165300
         },
         {
          "country": "Czech Republic",
          "health": 78.6,
          "income": 29437,
          "population": 10543186
         },
         {
          "country": "Denmark",
          "health": 80.1,
          "income": 43495,
          "population": 5669081
         },
         {
          "country": "Djibouti",
          "health": 64.63,
          "income": 3139,
          "population": 887861
         },
         {
          "country": "Dominica",
          "health": 74.6,
          "income": 10503,
          "population": 72680
         },
         {
          "country": "Dominican Republic",
          "health": 73.8,
          "income": 12837,
          "population": 10528391
         },
         {
          "country": "Ecuador",
          "health": 75.2,
          "income": 10996,
          "population": 16144363
         },
         {
          "country": "Egypt",
          "health": 71.3,
          "income": 11031,
          "population": 91508084
         },
         {
          "country": "El Salvador",
          "health": 74.1,
          "income": 7776,
          "population": 6126583
         },
         {
          "country": "Equatorial Guinea",
          "health": 60.63,
          "income": 31087,
          "population": 845060
         },
         {
          "country": "Eritrea",
          "health": 62.9,
          "income": 1129,
          "population": 5227791
         },
         {
          "country": "Estonia",
          "health": 76.8,
          "income": 26812,
          "population": 1312558
         },
         {
          "country": "Ethiopia",
          "health": 63.6,
          "income": 1520,
          "population": 99390750
         },
         {
          "country": "Fiji",
          "health": 66.3,
          "income": 7925,
          "population": 892145
         },
         {
          "country": "Finland",
          "health": 80.8,
          "income": 38923,
          "population": 5503457
         },
         {
          "country": "France",
          "health": 81.9,
          "income": 37599,
          "population": 64395345
         },
         {
          "country": "Gabon",
          "health": 60.53,
          "income": 18627,
          "population": 1725292
         },
         {
          "country": "Gambia",
          "health": 65.1,
          "income": 1644,
          "population": 1990924
         },
         {
          "country": "Georgia",
          "health": 73.3,
          "income": 7474,
          "population": 3999812
         },
         {
          "country": "Germany",
          "health": 81.1,
          "income": 44053,
          "population": 80688545
         },
         {
          "country": "Ghana",
          "health": 65.5,
          "income": 4099,
          "population": 27409893
         },
         {
          "country": "Greece",
          "health": 79.8,
          "income": 25430,
          "population": 10954617
         },
         {
          "country": "Grenada",
          "health": 71.7,
          "income": 11593,
          "population": 106825
         },
         {
          "country": "Guatemala",
          "health": 73.1,
          "income": 7279,
          "population": 16342897
         },
         {
          "country": "Guinea",
          "health": 60.8,
          "income": 1225,
          "population": 12608590
         },
         {
          "country": "Guinea-Bissau",
          "health": 53.4,
          "income": 1386,
          "population": 1844325
         },
         {
          "country": "Guyana",
          "health": 64.4,
          "income": 6816,
          "population": 767085
         },
         {
          "country": "Haiti",
          "health": 65.3,
          "income": 1710,
          "population": 10711067
         },
         {
          "country": "Honduras",
          "health": 72.4,
          "income": 4270,
          "population": 8075060
         },
         {
          "country": "Hungary",
          "health": 76.2,
          "income": 24200,
          "population": 9855023
         },
         {
          "country": "Iceland",
          "health": 82.8,
          "income": 42182,
          "population": 329425
         },
         {
          "country": "India",
          "health": 66.8,
          "income": 5903,
          "population": 1311050527
         },
         {
          "country": "Indonesia",
          "health": 70.9,
          "income": 10504,
          "population": 257563815
         },
         {
          "country": "Iran",
          "health": 78.5,
          "income": 15573,
          "population": 79109272
         },
         {
          "country": "Iraq",
          "health": 72.1,
          "income": 14646,
          "population": 36423395
         },
         {
          "country": "Ireland",
          "health": 80.4,
          "income": 47758,
          "population": 4688465
         },
         {
          "country": "Israel",
          "health": 82.4,
          "income": 31590,
          "population": 8064036
         },
         {
          "country": "Italy",
          "health": 82.1,
          "income": 33297,
          "population": 59797685
         },
         {
          "country": "Jamaica",
          "health": 75.5,
          "income": 8606,
          "population": 2793335
         },
         {
          "country": "Japan",
          "health": 83.5,
          "income": 36162,
          "population": 126573481
         },
         {
          "country": "Jordan",
          "health": 78.3,
          "income": 11752,
          "population": 7594547
         },
         {
          "country": "Kazakhstan",
          "health": 68.2,
          "income": 23468,
          "population": 17625226
         },
         {
          "country": "Kenya",
          "health": 66.63,
          "income": 2898,
          "population": 46050302
         },
         {
          "country": "Kiribati",
          "health": 62.4,
          "income": 1824,
          "population": 112423
         },
         {
          "country": "Kuwait",
          "health": 80.7,
          "income": 82633,
          "population": 3892115
         },
         {
          "country": "Kyrgyz Republic",
          "health": 69,
          "income": 3245,
          "population": 5939962
         },
         {
          "country": "Lao",
          "health": 66.4,
          "income": 5212,
          "population": 6802023
         },
         {
          "country": "Latvia",
          "health": 75.7,
          "income": 23282,
          "population": 1970503
         },
         {
          "country": "Lebanon",
          "health": 78.5,
          "income": 17050,
          "population": 5850743
         },
         {
          "country": "Lesotho",
          "health": 48.5,
          "income": 2598,
          "population": 2135022
         },
         {
          "country": "Liberia",
          "health": 63.9,
          "income": 958,
          "population": 4503438
         },
         {
          "country": "Libya",
          "health": 76.2,
          "income": 17261,
          "population": 6278438
         },
         {
          "country": "Lithuania",
          "health": 75.4,
          "income": 26665,
          "population": 2878405
         },
         {
          "country": "Luxembourg",
          "health": 81.1,
          "income": 88314,
          "population": 567110
         },
         {
          "country": "Macedonia, FYR",
          "health": 77,
          "income": 12547,
          "population": 2078453
         },
         {
          "country": "Madagascar",
          "health": 64.7,
          "income": 1400,
          "population": 24235390
         },
         {
          "country": "Malawi",
          "health": 60.22,
          "income": 799,
          "population": 17215232
         },
         {
          "country": "Malaysia",
          "health": 75.1,
          "income": 24320,
          "population": 30331007
         },
         {
          "country": "Maldives",
          "health": 79.5,
          "income": 14408,
          "population": 363657
         },
         {
          "country": "Mali",
          "health": 57.6,
          "income": 1684,
          "population": 17599694
         },
         {
          "country": "Malta",
          "health": 82.1,
          "income": 30265,
          "population": 418670
         },
         {
          "country": "Marshall Islands",
          "health": 65.1,
          "income": 3661,
          "population": 52993
         },
         {
          "country": "Mauritania",
          "health": 65.7,
          "income": 3877,
          "population": 4067564
         },
         {
          "country": "Mauritius",
          "health": 73.9,
          "income": 18350,
          "population": 1273212
         },
         {
          "country": "Mexico",
          "health": 74.5,
          "income": 16850,
          "population": 127017224
         },
         {
          "country": "Micronesia, Fed. Sts.",
          "health": 67,
          "income": 3510,
          "population": 104460
         },
         {
          "country": "Moldova",
          "health": 72.7,
          "income": 4896,
          "population": 4068897
         },
         {
          "country": "Mongolia",
          "health": 65.3,
          "income": 11819,
          "population": 2959134
         },
         {
          "country": "Montenegro",
          "health": 75.8,
          "income": 14833,
          "population": 625781
         },
         {
          "country": "Morocco",
          "health": 74.7,
          "income": 7319,
          "population": 34377511
         },
         {
          "country": "Mozambique",
          "health": 56.4,
          "income": 1176,
          "population": 27977863
         },
         {
          "country": "Myanmar",
          "health": 67.9,
          "income": 4012,
          "population": 53897154
         },
         {
          "country": "Namibia",
          "health": 61,
          "income": 10040,
          "population": 2458830
         },
         {
          "country": "Nepal",
          "health": 71.2,
          "income": 2352,
          "population": 28513700
         },
         {
          "country": "Netherlands",
          "health": 80.6,
          "income": 45784,
          "population": 16924929
         },
         {
          "country": "New Zealand",
          "health": 80.6,
          "income": 34186,
          "population": 4528526
         },
         {
          "country": "Nicaragua",
          "health": 76.8,
          "income": 4712,
          "population": 6082032
         },
         {
          "country": "Niger",
          "health": 62.2,
          "income": 943,
          "population": 19899120
         },
         {
          "country": "Nigeria",
          "health": 61.33,
          "income": 5727,
          "population": 182201962
         },
         {
          "country": "North Korea",
          "health": 71.4,
          "income": 1390,
          "population": 25155317
         },
         {
          "country": "Norway",
          "health": 81.6,
          "income": 64304,
          "population": 5210967
         },
         {
          "country": "Oman",
          "health": 75.7,
          "income": 48226,
          "population": 4490541
         },
         {
          "country": "Pakistan",
          "health": 66.5,
          "income": 4743,
          "population": 188924874
         },
         {
          "country": "Panama",
          "health": 78.2,
          "income": 20485,
          "population": 3929141
         },
         {
          "country": "Papua New Guinea",
          "health": 60.6,
          "income": 2529,
          "population": 7619321
         },
         {
          "country": "Paraguay",
          "health": 73.9,
          "income": 8219,
          "population": 6639123
         },
         {
          "country": "Peru",
          "health": 77.5,
          "income": 11903,
          "population": 31376670
         },
         {
          "country": "Philippines",
          "health": 70.2,
          "income": 6876,
          "population": 100699395
         },
         {
          "country": "Poland",
          "health": 77.3,
          "income": 24787,
          "population": 38611794
         },
         {
          "country": "Portugal",
          "health": 79.8,
          "income": 26437,
          "population": 10349803
         },
         {
          "country": "Qatar",
          "health": 82,
          "income": 132877,
          "population": 2235355
         },
         {
          "country": "Romania",
          "health": 76.8,
          "income": 19203,
          "population": 19511324
         },
         {
          "country": "Russia",
          "health": 73.13,
          "income": 23038,
          "population": 143456918
         },
         {
          "country": "Rwanda",
          "health": 66.53,
          "income": 1549,
          "population": 11609666
         },
         {
          "country": "Samoa",
          "health": 72.2,
          "income": 5558,
          "population": 193228
         },
         {
          "country": "Sao Tome and Principe",
          "health": 68.8,
          "income": 3003,
          "population": 190344
         },
         {
          "country": "Saudi Arabia",
          "health": 78.1,
          "income": 52469,
          "population": 31540372
         },
         {
          "country": "Senegal",
          "health": 66.1,
          "income": 2251,
          "population": 15129273
         },
         {
          "country": "Serbia",
          "health": 78.1,
          "income": 12908,
          "population": 8850975
         },
         {
          "country": "Seychelles",
          "health": 73.7,
          "income": 25684,
          "population": 96471
         },
         {
          "country": "Sierra Leone",
          "health": 58.5,
          "income": 2085,
          "population": 6453184
         },
         {
          "country": "Singapore",
          "health": 82.1,
          "income": 80794,
          "population": 5603740
         },
         {
          "country": "Slovak Republic",
          "health": 76.4,
          "income": 27204,
          "population": 5426258
         },
         {
          "country": "Slovenia",
          "health": 80.2,
          "income": 28550,
          "population": 2067526
         },
         {
          "country": "Solomon Islands",
          "health": 64.1,
          "income": 2047,
          "population": 583591
         },
         {
          "country": "Somalia",
          "health": 58.7,
          "income": 624,
          "population": 10787104
         },
         {
          "country": "South Africa",
          "health": 63.72,
          "income": 12509,
          "population": 54490406
         },
         {
          "country": "South Korea",
          "health": 80.7,
          "income": 34644,
          "population": 50293439
         },
         {
          "country": "South Sudan",
          "health": 58,
          "income": 3047,
          "population": 12339812
         },
         {
          "country": "Spain",
          "health": 81.7,
          "income": 32979,
          "population": 46121699
         },
         {
          "country": "Sri Lanka",
          "health": 76.5,
          "income": 10624,
          "population": 20715010
         },
         {
          "country": "St. Lucia",
          "health": 74.5,
          "income": 9997,
          "population": 184999
         },
         {
          "country": "St. Vincent and the Grenadines",
          "health": 72.9,
          "income": 10435,
          "population": 109462
         },
         {
          "country": "Sudan",
          "health": 69.5,
          "income": 3975,
          "population": 40234882
         },
         {
          "country": "Suriname",
          "health": 70.5,
          "income": 17125,
          "population": 542975
         },
         {
          "country": "Swaziland",
          "health": 51.5,
          "income": 6095,
          "population": 1286970
         },
         {
          "country": "Sweden",
          "health": 82,
          "income": 44892,
          "population": 9779426
         },
         {
          "country": "Switzerland",
          "health": 82.9,
          "income": 56118,
          "population": 8298663
         },
         {
          "country": "Syria",
          "health": 70.26,
          "income": 4637,
          "population": 18502413
         },
         {
          "country": "Tajikistan",
          "health": 71,
          "income": 2582,
          "population": 8481855
         },
         {
          "country": "Tanzania",
          "health": 63.43,
          "income": 2571,
          "population": 53470420
         },
         {
          "country": "Thailand",
          "health": 75.1,
          "income": 14512,
          "population": 67959359
         },
         {
          "country": "Timor-Leste",
          "health": 72.4,
          "income": 2086,
          "population": 1184765
         },
         {
          "country": "Togo",
          "health": 64.23,
          "income": 1433,
          "population": 7304578
         },
         {
          "country": "Tonga",
          "health": 70.5,
          "income": 5069,
          "population": 106170
         },
         {
          "country": "Trinidad and Tobago",
          "health": 71.4,
          "income": 30113,
          "population": 1360088
         },
         {
          "country": "Tunisia",
          "health": 77.3,
          "income": 11126,
          "population": 11253554
         },
         {
          "country": "Turkey",
          "health": 76.5,
          "income": 19360,
          "population": 78665830
         },
         {
          "country": "Turkmenistan",
          "health": 67.9,
          "income": 15865,
          "population": 5373502
         },
         {
          "country": "Uganda",
          "health": 60.8,
          "income": 1680,
          "population": 39032383
         },
         {
          "country": "Ukraine",
          "health": 72.1,
          "income": 8449,
          "population": 44823765
         },
         {
          "country": "United Arab Emirates",
          "health": 76.6,
          "income": 60749,
          "population": 9156963
         },
         {
          "country": "United Kingdom",
          "health": 81.4,
          "income": 38225,
          "population": 64715810
         },
         {
          "country": "United States",
          "health": 79.1,
          "income": 53354,
          "population": 321773631
         },
         {
          "country": "Uruguay",
          "health": 77.3,
          "income": 20438,
          "population": 3431555
         },
         {
          "country": "Uzbekistan",
          "health": 70.1,
          "income": 5598,
          "population": 29893488
         },
         {
          "country": "Vanuatu",
          "health": 65,
          "income": 2912,
          "population": 264652
         },
         {
          "country": "Venezuela",
          "health": 75.8,
          "income": 15753,
          "population": 31108083
         },
         {
          "country": "Vietnam",
          "health": 76.5,
          "income": 5623,
          "population": 93447601
         },
         {
          "country": "West Bank and Gaza",
          "health": 75.2,
          "income": 4319,
          "population": 4668466
         },
         {
          "country": "Yemen",
          "health": 67.6,
          "income": 3887,
          "population": 26832215
         },
         {
          "country": "Zambia",
          "health": 58.96,
          "income": 4034,
          "population": 16211767
         },
         {
          "country": "Zimbabwe",
          "health": 60.01,
          "income": 1801,
          "population": 15602751
         }
        ]
       },
       "repeat": {
        "column": [
         "income",
         "health",
         "population"
        ],
        "row": [
         "income",
         "health",
         "population"
        ]
       },
       "spec": {
        "data": {
         "name": "data-7e3b7ef5d72a8470b0044710e8a24cca"
        },
        "encoding": {
         "x": {
          "field": {
           "repeat": "column"
          },
          "type": "quantitative"
         },
         "y": {
          "field": {
           "repeat": "row"
          },
          "type": "quantitative"
         }
        },
        "height": 220,
        "mark": "circle",
        "width": 250
       }
      },
      "image/png": "[encoded data removed]",
      "text/plain": [
       "<VegaLite 3 object>\n",
       "\n",
       "If you see this message, it means the renderer has not been properly enabled\n",
       "for the frontend that you are using. For more information, see\n",
       "https://altair-viz.github.io/user_guide/troubleshooting.html\n"
      ]
     },
     "execution_count": 4,
     "metadata": {},
     "output_type": "execute_result"
    }
   ],
   "source": [
    "alt.Chart(gapminder).mark_circle().encode(\n",
    "    alt.X(alt.repeat('column'),type='quantitative'),\n",
    "    alt.Y(alt.repeat('row'),type='quantitative')\n",
    ").properties(\n",
    "    width=250,\n",
    "    height=220\n",
    "    \n",
    ").repeat(\n",
    "    row=['income','health','population'],\n",
    "    column=['income','health','population']\n",
    ")"
   ]
  },
  {
   "cell_type": "markdown",
   "metadata": {
    "Collapsed": "false"
   },
   "source": [
    "### 2. Preprocesamiento (1 pto)"
   ]
  },
  {
   "cell_type": "markdown",
   "metadata": {
    "Collapsed": "false"
   },
   "source": [
    "Aplicar un escalamiento a los datos antes de aplicar nuestro algoritmo de clustering. Para ello, definir la variable `X_raw` que corresponde a un `numpy.array` con los valores del dataframe `gapminder` en las columnas _income_, _health_ y  _population_. Luego, definir la variable `X` que deben ser los datos escalados de `X_raw`."
   ]
  },
  {
   "cell_type": "code",
   "execution_count": 5,
   "metadata": {
    "Collapsed": "false"
   },
   "outputs": [],
   "source": [
    "from sklearn.preprocessing import StandardScaler"
   ]
  },
  {
   "cell_type": "code",
   "execution_count": 6,
   "metadata": {
    "Collapsed": "false",
    "scrolled": true
   },
   "outputs": [
    {
     "data": {
      "text/plain": [
       "array([[-7.94812582e-01, -1.81714240e+00, -4.59203854e-02],\n",
       "       [-3.43333732e-01,  5.59862729e-01, -2.53258375e-01],\n",
       "       [-1.97219703e-01,  6.24560745e-01,  4.04215845e-03],\n",
       "       [ 1.52369617e+00,  1.60797060e+00, -2.73035026e-01],\n",
       "       [-4.99365238e-01, -1.38107777e+00, -9.84344701e-02],\n",
       "       [ 1.98181268e-01,  4.56345903e-01, -2.72885662e-01],\n",
       "       [ 5.80298868e-03,  5.85741936e-01,  3.02847998e-02],\n",
       "       [-4.91680492e-01,  3.52829076e-01, -2.52411434e-01],\n",
       "       [ 1.39279586e+00,  1.31035972e+00, -1.05802947e-01],\n",
       "       [ 1.41070963e+00,  1.20684289e+00, -2.13736596e-01],\n",
       "       [-1.27857897e-02,  1.58735027e-01, -2.05273828e-01],\n",
       "       [ 2.90034757e-01,  8.10974068e-02, -2.70812967e-01],\n",
       "       [ 1.39705363e+00,  9.73930035e-01, -2.63890818e-01],\n",
       "       [-7.30634565e-01, -2.03573866e-01,  8.53054502e-01],\n",
       "       [-2.20585486e-01,  5.33983522e-01, -2.71539346e-01],\n",
       "       [ 9.48958998e-03, -1.64755056e-01, -2.07080201e-01],\n",
       "       [ 1.24657799e+00,  1.12920527e+00, -1.94460972e-01],\n",
       "       [-4.53360608e-01, -2.16513469e-01, -2.71014022e-01],\n",
       "       [-7.99745358e-01, -7.98795618e-01, -1.97395506e-01],\n",
       "       [-4.80257220e-01, -1.90634263e-01, -2.68106219e-01],\n",
       "       [-5.67904868e-01,  8.10974068e-02, -1.98481001e-01],\n",
       "       [-3.84197890e-01,  8.05715192e-01, -2.46864411e-01],\n",
       "       [-1.88175770e-03, -6.82339188e-01, -2.57696209e-01],\n",
       "       [-9.30083111e-02,  5.08104316e-01,  1.18090513e+00],\n",
       "       [ 2.89583879e+00,  9.09232018e-01, -2.70566869e-01],\n",
       "       [-4.47190264e-02,  4.17527093e-01, -2.23496838e-01],\n",
       "       [-8.08883976e-01, -1.14816491e+00, -1.46832680e-01],\n",
       "       [-8.54421290e-01, -1.45871539e+00, -1.95302580e-01],\n",
       "       [-7.25130625e-01, -4.23547122e-01, -1.64520304e-01],\n",
       "       [-7.44342491e-01, -1.57517182e+00, -1.10175004e-01],\n",
       "       [ 1.35322980e+00,  1.29742012e+00, -2.20350317e-02],\n",
       "       [-5.56533520e-01,  3.78708283e-01, -2.69885904e-01],\n",
       "       [-8.63663756e-01, -2.31272920e+00, -2.39238024e-01],\n",
       "       [-7.81000808e-01, -1.80808468e+00, -1.75299592e-01],\n",
       "       [ 2.71705598e-01,  9.86869638e-01, -1.47934305e-01],\n",
       "       [-2.02412099e-01,  6.76319159e-01,  9.35550820e+00],\n",
       "       [-2.32164529e-01,  5.33983522e-01,  6.39568811e-02],\n",
       "       [-8.18334137e-01, -9.79950064e-01, -2.68010744e-01],\n",
       "       [-8.52759724e-01, -1.73044706e+00,  2.67153881e-01],\n",
       "       [-5.71799165e-01, -1.26462134e+00, -2.41196959e-01],\n",
       "       [-1.60976777e-01,  1.07744686e+00, -2.39884770e-01],\n",
       "       [-7.13499657e-01, -1.46777311e+00, -1.14671821e-01],\n",
       "       [ 1.57213262e-01,  8.18654795e-01, -2.43856137e-01],\n",
       "       [ 2.10746867e-01,  8.83352811e-01, -1.93828600e-01],\n",
       "       [ 6.52412088e-01,  1.41387655e+00, -2.65373868e-01],\n",
       "       [ 6.33719462e-01,  8.96292415e-01, -1.99751198e-01],\n",
       "       [ 1.36366652e+00,  1.09038646e+00, -2.33858222e-01],\n",
       "       [-7.31776892e-01, -9.11370166e-01, -2.67315274e-01],\n",
       "       [-3.49408836e-01,  3.78708283e-01, -2.73019582e-01],\n",
       "       [-2.28218308e-01,  2.75191456e-01, -1.99854727e-01],\n",
       "       [-3.23810322e-01,  4.56345903e-01, -1.60556417e-01],\n",
       "       [-3.21992984e-01, -4.82986262e-02,  3.66808554e-01],\n",
       "       [-4.91005480e-01,  3.14010266e-01, -2.30656807e-01],\n",
       "       [ 7.19393999e-01, -1.42895430e+00, -2.67614778e-01],\n",
       "       [-8.36144056e-01, -1.13522530e+00, -2.36946192e-01],\n",
       "       [ 4.97419061e-01,  6.63379555e-01, -2.64343415e-01],\n",
       "       [-8.15841787e-01, -1.04464808e+00,  4.21968276e-01],\n",
       "       [-4.83268810e-01, -6.95278791e-01, -2.67285296e-01],\n",
       "       [ 1.12627017e+00,  1.18096369e+00, -2.35017192e-01],\n",
       "       [ 1.05752284e+00,  1.32329932e+00,  1.77084525e-01],\n",
       "       [ 7.24214320e-02, -1.44189390e+00, -2.61455269e-01],\n",
       "       [-8.09403215e-01, -8.50554031e-01, -2.59596483e-01],\n",
       "       [-5.06686517e-01,  2.10493440e-01, -2.45539094e-01],\n",
       "       [ 1.39264009e+00,  1.21978250e+00,  2.91097777e-01],\n",
       "       [-6.81929888e-01, -7.98795618e-01, -8.17247746e-02],\n",
       "       [ 4.25660146e-01,  1.05156765e+00, -1.96872169e-01],\n",
       "       [-2.92811717e-01,  3.45978698e-03, -2.72780649e-01],\n",
       "       [-5.16811689e-01,  1.84614233e-01, -1.59167156e-01],\n",
       "       [-8.31159355e-01, -1.40695697e+00, -1.85298332e-01],\n",
       "       [-8.22799597e-01, -2.36448762e+00, -2.60622324e-01],\n",
       "       [-5.40852484e-01, -9.41131254e-01, -2.68160416e-01],\n",
       "       [-8.05976234e-01, -8.24674824e-01, -1.98576434e-01],\n",
       "       [-6.73050891e-01,  9.40370101e-02, -2.17022150e-01],\n",
       "       [ 3.61793672e-01,  5.85741936e-01, -2.04566685e-01],\n",
       "       [ 1.29549036e+00,  1.43975575e+00, -2.71222984e-01],\n",
       "       [-5.88259061e-01, -6.30580775e-01,  8.90067546e+00],\n",
       "       [-3.49356912e-01, -1.00057039e-01,  1.52879969e+00],\n",
       "       [-8.61543481e-02,  8.83352811e-01,  2.80046660e-01],\n",
       "       [-1.34287861e-01,  5.52182002e-02, -1.86519173e-02],\n",
       "       [ 1.58501837e+00,  1.12920527e+00, -2.40720178e-01],\n",
       "       [ 7.45511752e-01,  1.38799734e+00, -2.17099291e-01],\n",
       "       [ 8.34145955e-01,  1.34917853e+00,  1.44911951e-01],\n",
       "       [-4.47908592e-01,  4.95164712e-01, -2.53981534e-01],\n",
       "       [ 9.82908106e-01,  1.53033298e+00,  6.12182081e-01],\n",
       "       [-2.84555807e-01,  8.57473605e-01, -2.20384586e-01],\n",
       "       [ 3.23785332e-01, -4.49426329e-01, -1.50193934e-01],\n",
       "       [-7.44290567e-01, -6.52578100e-01,  4.87133011e-02],\n",
       "       [-8.00056902e-01, -1.19992332e+00, -2.72741477e-01],\n",
       "       [ 3.39586655e+00,  1.16802408e+00, -2.46292714e-01],\n",
       "       [-7.26272952e-01, -3.45909502e-01, -2.31962706e-01],\n",
       "       [-6.24138519e-01, -6.82339188e-01, -2.25930350e-01],\n",
       "       [ 3.14127475e-01,  5.21043919e-01, -2.59739381e-01],\n",
       "       [-9.46265616e-03,  8.83352811e-01, -2.32587024e-01],\n",
       "       [-7.59867755e-01, -2.99852818e+00, -2.58588144e-01],\n",
       "       [-8.45023053e-01, -1.00582927e+00, -2.42014922e-01],\n",
       "       [ 1.49329983e-03,  5.85741936e-01, -2.29594187e-01],\n",
       "       [ 4.89786239e-01,  4.82225109e-01, -2.53386249e-01],\n",
       "       [ 3.69084657e+00,  1.21978250e+00, -2.69559760e-01],\n",
       "       [-2.43276257e-01,  6.89258762e-01, -2.58983991e-01],\n",
       "       [-8.22072662e-01, -9.02312444e-01, -1.03938668e-01],\n",
       "       [-8.53278963e-01, -1.48200667e+00, -1.53062907e-01],\n",
       "       [ 3.68024548e-01,  4.43406299e-01, -6.12839951e-02],\n",
       "       [-1.46645764e-01,  1.01274884e+00, -2.70983443e-01],\n",
       "       [-8.07326257e-01, -1.82102428e+00, -1.50372597e-01],\n",
       "       [ 6.76712502e-01,  1.34917853e+00, -2.70598484e-01],\n",
       "       [-7.04672584e-01, -8.50554031e-01, -2.73157344e-01],\n",
       "       [-6.93457008e-01, -7.72916411e-01, -2.45064993e-01],\n",
       "       [ 5.80384945e-02,  2.88131060e-01, -2.64618743e-01],\n",
       "       [-1.98474486e-02,  3.65768679e-01,  6.15287216e-01],\n",
       "       [-7.12513102e-01, -6.04701568e-01, -2.72797199e-01],\n",
       "       [-6.40546491e-01,  1.32855820e-01, -2.45055665e-01],\n",
       "       [-2.81076902e-01, -8.24674824e-01, -2.52821340e-01],\n",
       "       [-1.24578080e-01,  5.33983522e-01, -2.69149204e-01],\n",
       "       [-5.14734731e-01,  3.91647886e-01, -3.29681897e-02],\n",
       "       [-8.33703629e-01, -1.97629952e+00, -7.77503492e-02],\n",
       "       [-6.86447273e-01, -4.88245138e-01,  1.03622412e-01],\n",
       "       [-3.73449630e-01, -1.38107777e+00, -2.56322266e-01],\n",
       "       [-7.72641050e-01, -6.12382295e-02, -7.40007777e-02],\n",
       "       [ 1.48252047e+00,  1.15508448e+00, -1.55094330e-01],\n",
       "       [ 8.80306357e-01,  1.15508448e+00, -2.41839366e-01],\n",
       "       [-6.50100500e-01,  6.63379555e-01, -2.30968557e-01],\n",
       "       [-8.45801913e-01, -1.22580253e+00, -1.34282139e-01],\n",
       "       [-5.97397678e-01, -1.33837708e+00,  1.00144779e+00],\n",
       "       [-8.22591902e-01, -3.53590229e-02, -9.75013895e-02],\n",
       "       [ 2.44415225e+00,  1.28448051e+00, -2.37063919e-01],\n",
       "       [ 1.60931878e+00,  5.21043919e-01, -2.42105170e-01],\n",
       "       [-6.48490857e-01, -6.69399585e-01,  1.04849202e+00],\n",
       "       [ 1.68896153e-01,  8.44534002e-01, -2.46033621e-01],\n",
       "       [-7.63450509e-01, -1.43283618e+00, -2.20211228e-01],\n",
       "       [-4.68003165e-01,  2.88131060e-01, -2.27070259e-01],\n",
       "       [-2.76715289e-01,  7.53956778e-01, -5.39668665e-02],\n",
       "       [-5.37737046e-01, -1.90634263e-01,  4.31125647e-01],\n",
       "       [ 3.92273038e-01,  7.28077572e-01, -3.33838236e-03],\n",
       "       [ 4.77947575e-01,  1.05156765e+00, -2.01104414e-01],\n",
       "       [ 6.00473409e+00,  1.33623893e+00, -2.57886054e-01],\n",
       "       [ 1.02329634e-01,  6.63379555e-01, -1.36995780e-01],\n",
       "       [ 3.01458028e-01,  1.88496114e-01,  7.30325574e-01],\n",
       "       [-8.14335992e-01, -6.65517704e-01, -1.92288400e-01],\n",
       "       [-6.06172828e-01,  6.81578035e-02, -2.72176036e-01],\n",
       "       [-7.38838551e-01, -3.71788709e-01, -2.72196217e-01],\n",
       "       [ 1.82963216e+00,  8.31594398e-01, -5.28213459e-02],\n",
       "       [-7.77885370e-01, -7.21157998e-01, -1.67659608e-01],\n",
       "       [-2.24531707e-01,  8.31594398e-01, -2.11592609e-01],\n",
       "       [ 4.38848832e-01,  2.62251853e-01, -2.72853103e-01],\n",
       "       [-7.86504748e-01, -1.70456785e+00, -2.28371385e-01],\n",
       "       [ 3.30037838e+00,  1.34917853e+00, -2.34315452e-01],\n",
       "       [ 5.17773254e-01,  6.11621142e-01, -2.35557399e-01],\n",
       "       [ 5.87662907e-01,  1.10332607e+00, -2.59060453e-01],\n",
       "       [-7.88477859e-01, -9.79950064e-01, -2.69444433e-01],\n",
       "       [-8.62365656e-01, -1.67868864e+00, -1.98044358e-01],\n",
       "       [-2.45249368e-01, -1.02912056e+00,  1.07773750e-01],\n",
       "       [ 9.04087532e-01,  1.16802408e+00,  7.84050652e-02],\n",
       "       [-7.36553896e-01, -1.76926587e+00, -1.87179133e-01],\n",
       "       [ 8.17634135e-01,  1.29742012e+00,  4.92129086e-02],\n",
       "       [-3.43126036e-01,  6.24560745e-01, -1.28572870e-01],\n",
       "       [-3.75682360e-01,  3.65768679e-01, -2.72233619e-01],\n",
       "       [-3.52939665e-01,  1.58735027e-01, -2.72762197e-01],\n",
       "       [-6.88368460e-01, -2.81211486e-01,  8.01933384e-03],\n",
       "       [-5.56835901e-03, -1.51815453e-01, -2.69728647e-01],\n",
       "       [-5.78289660e-01, -2.61034008e+00, -2.64522470e-01],\n",
       "       [ 1.43620429e+00,  1.33623893e+00, -2.05095683e-01],\n",
       "       [ 2.01910269e+00,  1.45269536e+00, -2.15457466e-01],\n",
       "       [-6.53994797e-01, -1.82870501e-01, -1.44055733e-01],\n",
       "       [-7.60698539e-01, -8.71174361e-02, -2.14175562e-01],\n",
       "       [-7.61269702e-01, -1.06664541e+00,  1.00636299e-01],\n",
       "       [-1.41245672e-01,  4.43406299e-01,  2.02024059e-01],\n",
       "       [-7.86452824e-01,  9.40370101e-02, -2.65237659e-01],\n",
       "       [-8.20359171e-01, -9.63128580e-01, -2.22413673e-01],\n",
       "       [-6.31563645e-01, -1.51815453e-01, -2.72785233e-01],\n",
       "       [ 6.68820060e-01, -3.53590229e-02, -2.64010820e-01],\n",
       "       [-3.17060207e-01,  7.28077572e-01, -1.94780329e-01],\n",
       "       [ 1.10481696e-01,  6.24560745e-01,  2.76943632e-01],\n",
       "       [-7.09925512e-02, -4.88245138e-01, -2.35926565e-01],\n",
       "       [-8.07533953e-01, -1.40695697e+00, -3.95269911e-04],\n",
       "       [-4.56060654e-01,  5.52182002e-02,  4.01304891e-02],\n",
       "       [ 2.25956256e+00,  6.37500349e-01, -2.09451428e-01],\n",
       "       [ 1.09002724e+00,  1.25860131e+00,  1.79327010e-01],\n",
       "       [ 1.87558486e+00,  9.60990431e-01,  1.97811412e+00],\n",
       "       [ 1.66455727e-01,  7.28077572e-01, -2.49515528e-01],\n",
       "       [-6.04095869e-01, -2.03573866e-01, -6.43455769e-02],\n",
       "       [-7.43563631e-01, -8.63493634e-01, -2.71676240e-01],\n",
       "       [-7.68080349e-02,  5.33983522e-01, -5.58463302e-02],\n",
       "       [-6.02797770e-01,  6.24560745e-01,  3.80380513e-01],\n",
       "       [-6.70506617e-01,  4.56345903e-01, -2.40860123e-01],\n",
       "       [-6.92937768e-01, -5.27063948e-01, -8.57671326e-02],\n",
       "       [-6.85304946e-01, -1.64504567e+00, -1.60084751e-01],\n",
       "       [-8.01251153e-01, -1.50917984e+00, -1.64346400e-01]])"
      ]
     },
     "execution_count": 6,
     "metadata": {},
     "output_type": "execute_result"
    }
   ],
   "source": [
    "X_raw = np.array(gapminder[['income','health','population']])\n",
    "X= StandardScaler().fit_transform(X_raw)\n",
    "X"
   ]
  },
  {
   "cell_type": "markdown",
   "metadata": {
    "Collapsed": "false"
   },
   "source": [
    "### 3. Clustering (1 pto)"
   ]
  },
  {
   "cell_type": "code",
   "execution_count": 7,
   "metadata": {
    "Collapsed": "false"
   },
   "outputs": [],
   "source": [
    "from sklearn.cluster import KMeans"
   ]
  },
  {
   "cell_type": "markdown",
   "metadata": {
    "Collapsed": "false"
   },
   "source": [
    "Definir un _estimator_ `KMeans` con `k=3` y `random_state=42`, luego ajustar con `X` y finalmente, agregar los _labels_ obtenidos a una nueva columna del dataframe `gapminder` llamada `cluster`. Finalmente, realizar el mismo gráfico del principio pero coloreado por los clusters obtenidos.\n",
    "\n"
   ]
  },
  {
   "cell_type": "code",
   "execution_count": 8,
   "metadata": {
    "Collapsed": "false"
   },
   "outputs": [],
   "source": [
    "k = 3\n",
    "kmeans = KMeans(n_clusters=k,random_state=42)\n",
    "kmeans.fit(X)\n",
    "clusters = kmeans.labels_\n",
    "gapminder=gapminder.assign(cluster=clusters)"
   ]
  },
  {
   "cell_type": "code",
   "execution_count": 9,
   "metadata": {
    "Collapsed": "false"
   },
   "outputs": [
    {
     "data": {
      "application/vnd.vegalite.v3+json": {
       "$schema": "https://vega.github.io/schema/vega-lite/v3.4.0.json",
       "config": {
        "background": "white",
        "mark": {
         "tooltip": null
        },
        "view": {
         "height": 300,
         "width": 400
        }
       },
       "datasets": {
        "data-e19b33869877c38715e8e2246b54c119": [
         {
          "cluster": 0,
          "country": "Afghanistan",
          "health": 57.63,
          "income": 1925,
          "population": 32526562
         },
         {
          "cluster": 1,
          "country": "Albania",
          "health": 76,
          "income": 10620,
          "population": 2896679
         },
         {
          "cluster": 1,
          "country": "Algeria",
          "health": 76.5,
          "income": 13434,
          "population": 39666519
         },
         {
          "cluster": 1,
          "country": "Andorra",
          "health": 84.1,
          "income": 46577,
          "population": 70473
         },
         {
          "cluster": 0,
          "country": "Angola",
          "health": 61,
          "income": 7615,
          "population": 25021974
         },
         {
          "cluster": 1,
          "country": "Antigua and Barbuda",
          "health": 75.2,
          "income": 21049,
          "population": 91818
         },
         {
          "cluster": 1,
          "country": "Argentina",
          "health": 76.2,
          "income": 17344,
          "population": 43416755
         },
         {
          "cluster": 0,
          "country": "Armenia",
          "health": 74.4,
          "income": 7763,
          "population": 3017712
         },
         {
          "cluster": 1,
          "country": "Australia",
          "health": 81.8,
          "income": 44056,
          "population": 23968973
         },
         {
          "cluster": 1,
          "country": "Austria",
          "health": 81,
          "income": 44401,
          "population": 8544586
         },
         {
          "cluster": 1,
          "country": "Azerbaijan",
          "health": 72.9,
          "income": 16986,
          "population": 9753968
         },
         {
          "cluster": 1,
          "country": "Bahamas",
          "health": 72.3,
          "income": 22818,
          "population": 388019
         },
         {
          "cluster": 1,
          "country": "Bahrain",
          "health": 79.2,
          "income": 44138,
          "population": 1377237
         },
         {
          "cluster": 0,
          "country": "Bangladesh",
          "health": 70.1,
          "income": 3161,
          "population": 160995642
         },
         {
          "cluster": 1,
          "country": "Barbados",
          "health": 75.8,
          "income": 12984,
          "population": 284215
         },
         {
          "cluster": 0,
          "country": "Belarus",
          "health": 70.4,
          "income": 17415,
          "population": 9495826
         },
         {
          "cluster": 1,
          "country": "Belgium",
          "health": 80.4,
          "income": 41240,
          "population": 11299192
         },
         {
          "cluster": 0,
          "country": "Belize",
          "health": 70,
          "income": 8501,
          "population": 359287
         },
         {
          "cluster": 0,
          "country": "Benin",
          "health": 65.5,
          "income": 1830,
          "population": 10879829
         },
         {
          "cluster": 0,
          "country": "Bhutan",
          "health": 70.2,
          "income": 7983,
          "population": 774830
         },
         {
          "cluster": 0,
          "country": "Bolivia",
          "health": 72.3,
          "income": 6295,
          "population": 10724705
         },
         {
          "cluster": 1,
          "country": "Bosnia and Herzegovina",
          "health": 77.9,
          "income": 9833,
          "population": 3810416
         },
         {
          "cluster": 0,
          "country": "Botswana",
          "health": 66.4,
          "income": 17196,
          "population": 2262485
         },
         {
          "cluster": 1,
          "country": "Brazil",
          "health": 75.6,
          "income": 15441,
          "population": 207847528
         },
         {
          "cluster": 1,
          "country": "Brunei",
          "health": 78.7,
          "income": 73003,
          "population": 423188
         },
         {
          "cluster": 1,
          "country": "Bulgaria",
          "health": 74.9,
          "income": 16371,
          "population": 7149787
         },
         {
          "cluster": 0,
          "country": "Burkina Faso",
          "health": 62.8,
          "income": 1654,
          "population": 18105570
         },
         {
          "cluster": 0,
          "country": "Burundi",
          "health": 60.4,
          "income": 777,
          "population": 11178921
         },
         {
          "cluster": 0,
          "country": "Cambodia",
          "health": 68.4,
          "income": 3267,
          "population": 15577899
         },
         {
          "cluster": 0,
          "country": "Cameroon",
          "health": 59.5,
          "income": 2897,
          "population": 23344179
         },
         {
          "cluster": 1,
          "country": "Canada",
          "health": 81.7,
          "income": 43294,
          "population": 35939927
         },
         {
          "cluster": 0,
          "country": "Cape Verde",
          "health": 74.6,
          "income": 6514,
          "population": 520502
         },
         {
          "cluster": 0,
          "country": "Central African Republic",
          "health": 53.8,
          "income": 599,
          "population": 4900274
         },
         {
          "cluster": 0,
          "country": "Chad",
          "health": 57.7,
          "income": 2191,
          "population": 14037472
         },
         {
          "cluster": 1,
          "country": "Chile",
          "health": 79.3,
          "income": 22465,
          "population": 17948141
         },
         {
          "cluster": 2,
          "country": "China",
          "health": 76.9,
          "income": 13334,
          "population": 1376048943
         },
         {
          "cluster": 1,
          "country": "Colombia",
          "health": 75.8,
          "income": 12761,
          "population": 48228704
         },
         {
          "cluster": 0,
          "country": "Comoros",
          "health": 64.1,
          "income": 1472,
          "population": 788474
         },
         {
          "cluster": 0,
          "country": "Congo, Dem. Rep.",
          "health": 58.3,
          "income": 809,
          "population": 77266814
         },
         {
          "cluster": 0,
          "country": "Congo, Rep.",
          "health": 61.9,
          "income": 6220,
          "population": 4620330
         },
         {
          "cluster": 1,
          "country": "Costa Rica",
          "health": 80,
          "income": 14132,
          "population": 4807850
         },
         {
          "cluster": 0,
          "country": "Cote d'Ivoire",
          "health": 60.33,
          "income": 3491,
          "population": 22701556
         },
         {
          "cluster": 1,
          "country": "Croatia",
          "health": 78,
          "income": 20260,
          "population": 4240317
         },
         {
          "cluster": 1,
          "country": "Cuba",
          "health": 78.5,
          "income": 21291,
          "population": 11389562
         },
         {
          "cluster": 1,
          "country": "Cyprus",
          "health": 82.6,
          "income": 29797,
          "population": 1165300
         },
         {
          "cluster": 1,
          "country": "Czech Republic",
          "health": 78.6,
          "income": 29437,
          "population": 10543186
         },
         {
          "cluster": 1,
          "country": "Denmark",
          "health": 80.1,
          "income": 43495,
          "population": 5669081
         },
         {
          "cluster": 0,
          "country": "Djibouti",
          "health": 64.63,
          "income": 3139,
          "population": 887861
         },
         {
          "cluster": 1,
          "country": "Dominica",
          "health": 74.6,
          "income": 10503,
          "population": 72680
         },
         {
          "cluster": 1,
          "country": "Dominican Republic",
          "health": 73.8,
          "income": 12837,
          "population": 10528391
         },
         {
          "cluster": 1,
          "country": "Ecuador",
          "health": 75.2,
          "income": 10996,
          "population": 16144363
         },
         {
          "cluster": 0,
          "country": "Egypt",
          "health": 71.3,
          "income": 11031,
          "population": 91508084
         },
         {
          "cluster": 0,
          "country": "El Salvador",
          "health": 74.1,
          "income": 7776,
          "population": 6126583
         },
         {
          "cluster": 0,
          "country": "Equatorial Guinea",
          "health": 60.63,
          "income": 31087,
          "population": 845060
         },
         {
          "cluster": 0,
          "country": "Eritrea",
          "health": 62.9,
          "income": 1129,
          "population": 5227791
         },
         {
          "cluster": 1,
          "country": "Estonia",
          "health": 76.8,
          "income": 26812,
          "population": 1312558
         },
         {
          "cluster": 0,
          "country": "Ethiopia",
          "health": 63.6,
          "income": 1520,
          "population": 99390750
         },
         {
          "cluster": 0,
          "country": "Fiji",
          "health": 66.3,
          "income": 7925,
          "population": 892145
         },
         {
          "cluster": 1,
          "country": "Finland",
          "health": 80.8,
          "income": 38923,
          "population": 5503457
         },
         {
          "cluster": 1,
          "country": "France",
          "health": 81.9,
          "income": 37599,
          "population": 64395345
         },
         {
          "cluster": 0,
          "country": "Gabon",
          "health": 60.53,
          "income": 18627,
          "population": 1725292
         },
         {
          "cluster": 0,
          "country": "Gambia",
          "health": 65.1,
          "income": 1644,
          "population": 1990924
         },
         {
          "cluster": 0,
          "country": "Georgia",
          "health": 73.3,
          "income": 7474,
          "population": 3999812
         },
         {
          "cluster": 1,
          "country": "Germany",
          "health": 81.1,
          "income": 44053,
          "population": 80688545
         },
         {
          "cluster": 0,
          "country": "Ghana",
          "health": 65.5,
          "income": 4099,
          "population": 27409893
         },
         {
          "cluster": 1,
          "country": "Greece",
          "health": 79.8,
          "income": 25430,
          "population": 10954617
         },
         {
          "cluster": 0,
          "country": "Grenada",
          "health": 71.7,
          "income": 11593,
          "population": 106825
         },
         {
          "cluster": 0,
          "country": "Guatemala",
          "health": 73.1,
          "income": 7279,
          "population": 16342897
         },
         {
          "cluster": 0,
          "country": "Guinea",
          "health": 60.8,
          "income": 1225,
          "population": 12608590
         },
         {
          "cluster": 0,
          "country": "Guinea-Bissau",
          "health": 53.4,
          "income": 1386,
          "population": 1844325
         },
         {
          "cluster": 0,
          "country": "Guyana",
          "health": 64.4,
          "income": 6816,
          "population": 767085
         },
         {
          "cluster": 0,
          "country": "Haiti",
          "health": 65.3,
          "income": 1710,
          "population": 10711067
         },
         {
          "cluster": 0,
          "country": "Honduras",
          "health": 72.4,
          "income": 4270,
          "population": 8075060
         },
         {
          "cluster": 1,
          "country": "Hungary",
          "health": 76.2,
          "income": 24200,
          "population": 9855023
         },
         {
          "cluster": 1,
          "country": "Iceland",
          "health": 82.8,
          "income": 42182,
          "population": 329425
         },
         {
          "cluster": 2,
          "country": "India",
          "health": 66.8,
          "income": 5903,
          "population": 1311050527
         },
         {
          "cluster": 0,
          "country": "Indonesia",
          "health": 70.9,
          "income": 10504,
          "population": 257563815
         },
         {
          "cluster": 1,
          "country": "Iran",
          "health": 78.5,
          "income": 15573,
          "population": 79109272
         },
         {
          "cluster": 0,
          "country": "Iraq",
          "health": 72.1,
          "income": 14646,
          "population": 36423395
         },
         {
          "cluster": 1,
          "country": "Ireland",
          "health": 80.4,
          "income": 47758,
          "population": 4688465
         },
         {
          "cluster": 1,
          "country": "Israel",
          "health": 82.4,
          "income": 31590,
          "population": 8064036
         },
         {
          "cluster": 1,
          "country": "Italy",
          "health": 82.1,
          "income": 33297,
          "population": 59797685
         },
         {
          "cluster": 1,
          "country": "Jamaica",
          "health": 75.5,
          "income": 8606,
          "population": 2793335
         },
         {
          "cluster": 1,
          "country": "Japan",
          "health": 83.5,
          "income": 36162,
          "population": 126573481
         },
         {
          "cluster": 1,
          "country": "Jordan",
          "health": 78.3,
          "income": 11752,
          "population": 7594547
         },
         {
          "cluster": 0,
          "country": "Kazakhstan",
          "health": 68.2,
          "income": 23468,
          "population": 17625226
         },
         {
          "cluster": 0,
          "country": "Kenya",
          "health": 66.63,
          "income": 2898,
          "population": 46050302
         },
         {
          "cluster": 0,
          "country": "Kiribati",
          "health": 62.4,
          "income": 1824,
          "population": 112423
         },
         {
          "cluster": 1,
          "country": "Kuwait",
          "health": 80.7,
          "income": 82633,
          "population": 3892115
         },
         {
          "cluster": 0,
          "country": "Kyrgyz Republic",
          "health": 69,
          "income": 3245,
          "population": 5939962
         },
         {
          "cluster": 0,
          "country": "Lao",
          "health": 66.4,
          "income": 5212,
          "population": 6802023
         },
         {
          "cluster": 1,
          "country": "Latvia",
          "health": 75.7,
          "income": 23282,
          "population": 1970503
         },
         {
          "cluster": 1,
          "country": "Lebanon",
          "health": 78.5,
          "income": 17050,
          "population": 5850743
         },
         {
          "cluster": 0,
          "country": "Lesotho",
          "health": 48.5,
          "income": 2598,
          "population": 2135022
         },
         {
          "cluster": 0,
          "country": "Liberia",
          "health": 63.9,
          "income": 958,
          "population": 4503438
         },
         {
          "cluster": 1,
          "country": "Libya",
          "health": 76.2,
          "income": 17261,
          "population": 6278438
         },
         {
          "cluster": 1,
          "country": "Lithuania",
          "health": 75.4,
          "income": 26665,
          "population": 2878405
         },
         {
          "cluster": 1,
          "country": "Luxembourg",
          "health": 81.1,
          "income": 88314,
          "population": 567110
         },
         {
          "cluster": 1,
          "country": "Macedonia, FYR",
          "health": 77,
          "income": 12547,
          "population": 2078453
         },
         {
          "cluster": 0,
          "country": "Madagascar",
          "health": 64.7,
          "income": 1400,
          "population": 24235390
         },
         {
          "cluster": 0,
          "country": "Malawi",
          "health": 60.22,
          "income": 799,
          "population": 17215232
         },
         {
          "cluster": 1,
          "country": "Malaysia",
          "health": 75.1,
          "income": 24320,
          "population": 30331007
         },
         {
          "cluster": 1,
          "country": "Maldives",
          "health": 79.5,
          "income": 14408,
          "population": 363657
         },
         {
          "cluster": 0,
          "country": "Mali",
          "health": 57.6,
          "income": 1684,
          "population": 17599694
         },
         {
          "cluster": 1,
          "country": "Malta",
          "health": 82.1,
          "income": 30265,
          "population": 418670
         },
         {
          "cluster": 0,
          "country": "Marshall Islands",
          "health": 65.1,
          "income": 3661,
          "population": 52993
         },
         {
          "cluster": 0,
          "country": "Mauritania",
          "health": 65.7,
          "income": 3877,
          "population": 4067564
         },
         {
          "cluster": 1,
          "country": "Mauritius",
          "health": 73.9,
          "income": 18350,
          "population": 1273212
         },
         {
          "cluster": 1,
          "country": "Mexico",
          "health": 74.5,
          "income": 16850,
          "population": 127017224
         },
         {
          "cluster": 0,
          "country": "Micronesia, Fed. Sts.",
          "health": 67,
          "income": 3510,
          "population": 104460
         },
         {
          "cluster": 0,
          "country": "Moldova",
          "health": 72.7,
          "income": 4896,
          "population": 4068897
         },
         {
          "cluster": 0,
          "country": "Mongolia",
          "health": 65.3,
          "income": 11819,
          "population": 2959134
         },
         {
          "cluster": 1,
          "country": "Montenegro",
          "health": 75.8,
          "income": 14833,
          "population": 625781
         },
         {
          "cluster": 0,
          "country": "Morocco",
          "health": 74.7,
          "income": 7319,
          "population": 34377511
         },
         {
          "cluster": 0,
          "country": "Mozambique",
          "health": 56.4,
          "income": 1176,
          "population": 27977863
         },
         {
          "cluster": 0,
          "country": "Myanmar",
          "health": 67.9,
          "income": 4012,
          "population": 53897154
         },
         {
          "cluster": 0,
          "country": "Namibia",
          "health": 61,
          "income": 10040,
          "population": 2458830
         },
         {
          "cluster": 0,
          "country": "Nepal",
          "health": 71.2,
          "income": 2352,
          "population": 28513700
         },
         {
          "cluster": 1,
          "country": "Netherlands",
          "health": 80.6,
          "income": 45784,
          "population": 16924929
         },
         {
          "cluster": 1,
          "country": "New Zealand",
          "health": 80.6,
          "income": 34186,
          "population": 4528526
         },
         {
          "cluster": 1,
          "country": "Nicaragua",
          "health": 76.8,
          "income": 4712,
          "population": 6082032
         },
         {
          "cluster": 0,
          "country": "Niger",
          "health": 62.2,
          "income": 943,
          "population": 19899120
         },
         {
          "cluster": 0,
          "country": "Nigeria",
          "health": 61.33,
          "income": 5727,
          "population": 182201962
         },
         {
          "cluster": 0,
          "country": "North Korea",
          "health": 71.4,
          "income": 1390,
          "population": 25155317
         },
         {
          "cluster": 1,
          "country": "Norway",
          "health": 81.6,
          "income": 64304,
          "population": 5210967
         },
         {
          "cluster": 1,
          "country": "Oman",
          "health": 75.7,
          "income": 48226,
          "population": 4490541
         },
         {
          "cluster": 0,
          "country": "Pakistan",
          "health": 66.5,
          "income": 4743,
          "population": 188924874
         },
         {
          "cluster": 1,
          "country": "Panama",
          "health": 78.2,
          "income": 20485,
          "population": 3929141
         },
         {
          "cluster": 0,
          "country": "Papua New Guinea",
          "health": 60.6,
          "income": 2529,
          "population": 7619321
         },
         {
          "cluster": 0,
          "country": "Paraguay",
          "health": 73.9,
          "income": 8219,
          "population": 6639123
         },
         {
          "cluster": 1,
          "country": "Peru",
          "health": 77.5,
          "income": 11903,
          "population": 31376670
         },
         {
          "cluster": 0,
          "country": "Philippines",
          "health": 70.2,
          "income": 6876,
          "population": 100699395
         },
         {
          "cluster": 1,
          "country": "Poland",
          "health": 77.3,
          "income": 24787,
          "population": 38611794
         },
         {
          "cluster": 1,
          "country": "Portugal",
          "health": 79.8,
          "income": 26437,
          "population": 10349803
         },
         {
          "cluster": 1,
          "country": "Qatar",
          "health": 82,
          "income": 132877,
          "population": 2235355
         },
         {
          "cluster": 1,
          "country": "Romania",
          "health": 76.8,
          "income": 19203,
          "population": 19511324
         },
         {
          "cluster": 1,
          "country": "Russia",
          "health": 73.13,
          "income": 23038,
          "population": 143456918
         },
         {
          "cluster": 0,
          "country": "Rwanda",
          "health": 66.53,
          "income": 1549,
          "population": 11609666
         },
         {
          "cluster": 0,
          "country": "Samoa",
          "health": 72.2,
          "income": 5558,
          "population": 193228
         },
         {
          "cluster": 0,
          "country": "Sao Tome and Principe",
          "health": 68.8,
          "income": 3003,
          "population": 190344
         },
         {
          "cluster": 1,
          "country": "Saudi Arabia",
          "health": 78.1,
          "income": 52469,
          "population": 31540372
         },
         {
          "cluster": 0,
          "country": "Senegal",
          "health": 66.1,
          "income": 2251,
          "population": 15129273
         },
         {
          "cluster": 1,
          "country": "Serbia",
          "health": 78.1,
          "income": 12908,
          "population": 8850975
         },
         {
          "cluster": 1,
          "country": "Seychelles",
          "health": 73.7,
          "income": 25684,
          "population": 96471
         },
         {
          "cluster": 0,
          "country": "Sierra Leone",
          "health": 58.5,
          "income": 2085,
          "population": 6453184
         },
         {
          "cluster": 1,
          "country": "Singapore",
          "health": 82.1,
          "income": 80794,
          "population": 5603740
         },
         {
          "cluster": 1,
          "country": "Slovak Republic",
          "health": 76.4,
          "income": 27204,
          "population": 5426258
         },
         {
          "cluster": 1,
          "country": "Slovenia",
          "health": 80.2,
          "income": 28550,
          "population": 2067526
         },
         {
          "cluster": 0,
          "country": "Solomon Islands",
          "health": 64.1,
          "income": 2047,
          "population": 583591
         },
         {
          "cluster": 0,
          "country": "Somalia",
          "health": 58.7,
          "income": 624,
          "population": 10787104
         },
         {
          "cluster": 0,
          "country": "South Africa",
          "health": 63.72,
          "income": 12509,
          "population": 54490406
         },
         {
          "cluster": 1,
          "country": "South Korea",
          "health": 80.7,
          "income": 34644,
          "population": 50293439
         },
         {
          "cluster": 0,
          "country": "South Sudan",
          "health": 58,
          "income": 3047,
          "population": 12339812
         },
         {
          "cluster": 1,
          "country": "Spain",
          "health": 81.7,
          "income": 32979,
          "population": 46121699
         },
         {
          "cluster": 1,
          "country": "Sri Lanka",
          "health": 76.5,
          "income": 10624,
          "population": 20715010
         },
         {
          "cluster": 1,
          "country": "St. Lucia",
          "health": 74.5,
          "income": 9997,
          "population": 184999
         },
         {
          "cluster": 0,
          "country": "St. Vincent and the Grenadines",
          "health": 72.9,
          "income": 10435,
          "population": 109462
         },
         {
          "cluster": 0,
          "country": "Sudan",
          "health": 69.5,
          "income": 3975,
          "population": 40234882
         },
         {
          "cluster": 0,
          "country": "Suriname",
          "health": 70.5,
          "income": 17125,
          "population": 542975
         },
         {
          "cluster": 0,
          "country": "Swaziland",
          "health": 51.5,
          "income": 6095,
          "population": 1286970
         },
         {
          "cluster": 1,
          "country": "Sweden",
          "health": 82,
          "income": 44892,
          "population": 9779426
         },
         {
          "cluster": 1,
          "country": "Switzerland",
          "health": 82.9,
          "income": 56118,
          "population": 8298663
         },
         {
          "cluster": 0,
          "country": "Syria",
          "health": 70.26,
          "income": 4637,
          "population": 18502413
         },
         {
          "cluster": 0,
          "country": "Tajikistan",
          "health": 71,
          "income": 2582,
          "population": 8481855
         },
         {
          "cluster": 0,
          "country": "Tanzania",
          "health": 63.43,
          "income": 2571,
          "population": 53470420
         },
         {
          "cluster": 1,
          "country": "Thailand",
          "health": 75.1,
          "income": 14512,
          "population": 67959359
         },
         {
          "cluster": 0,
          "country": "Timor-Leste",
          "health": 72.4,
          "income": 2086,
          "population": 1184765
         },
         {
          "cluster": 0,
          "country": "Togo",
          "health": 64.23,
          "income": 1433,
          "population": 7304578
         },
         {
          "cluster": 0,
          "country": "Tonga",
          "health": 70.5,
          "income": 5069,
          "population": 106170
         },
         {
          "cluster": 1,
          "country": "Trinidad and Tobago",
          "health": 71.4,
          "income": 30113,
          "population": 1360088
         },
         {
          "cluster": 1,
          "country": "Tunisia",
          "health": 77.3,
          "income": 11126,
          "population": 11253554
         },
         {
          "cluster": 1,
          "country": "Turkey",
          "health": 76.5,
          "income": 19360,
          "population": 78665830
         },
         {
          "cluster": 0,
          "country": "Turkmenistan",
          "health": 67.9,
          "income": 15865,
          "population": 5373502
         },
         {
          "cluster": 0,
          "country": "Uganda",
          "health": 60.8,
          "income": 1680,
          "population": 39032383
         },
         {
          "cluster": 0,
          "country": "Ukraine",
          "health": 72.1,
          "income": 8449,
          "population": 44823765
         },
         {
          "cluster": 1,
          "country": "United Arab Emirates",
          "health": 76.6,
          "income": 60749,
          "population": 9156963
         },
         {
          "cluster": 1,
          "country": "United Kingdom",
          "health": 81.4,
          "income": 38225,
          "population": 64715810
         },
         {
          "cluster": 1,
          "country": "United States",
          "health": 79.1,
          "income": 53354,
          "population": 321773631
         },
         {
          "cluster": 1,
          "country": "Uruguay",
          "health": 77.3,
          "income": 20438,
          "population": 3431555
         },
         {
          "cluster": 0,
          "country": "Uzbekistan",
          "health": 70.1,
          "income": 5598,
          "population": 29893488
         },
         {
          "cluster": 0,
          "country": "Vanuatu",
          "health": 65,
          "income": 2912,
          "population": 264652
         },
         {
          "cluster": 1,
          "country": "Venezuela",
          "health": 75.8,
          "income": 15753,
          "population": 31108083
         },
         {
          "cluster": 1,
          "country": "Vietnam",
          "health": 76.5,
          "income": 5623,
          "population": 93447601
         },
         {
          "cluster": 0,
          "country": "West Bank and Gaza",
          "health": 75.2,
          "income": 4319,
          "population": 4668466
         },
         {
          "cluster": 0,
          "country": "Yemen",
          "health": 67.6,
          "income": 3887,
          "population": 26832215
         },
         {
          "cluster": 0,
          "country": "Zambia",
          "health": 58.96,
          "income": 4034,
          "population": 16211767
         },
         {
          "cluster": 0,
          "country": "Zimbabwe",
          "health": 60.01,
          "income": 1801,
          "population": 15602751
         }
        ]
       },
       "repeat": {
        "column": [
         "income",
         "health",
         "population"
        ],
        "row": [
         "income",
         "health",
         "population"
        ]
       },
       "spec": {
        "data": {
         "name": "data-e19b33869877c38715e8e2246b54c119"
        },
        "encoding": {
         "color": {
          "field": "cluster",
          "type": "nominal"
         },
         "tooltip": {
          "field": "country",
          "type": "nominal"
         },
         "x": {
          "field": {
           "repeat": "column"
          },
          "type": "quantitative"
         },
         "y": {
          "field": {
           "repeat": "row"
          },
          "type": "quantitative"
         }
        },
        "height": 250,
        "mark": "circle",
        "width": 220
       }
      },
      "image/png": "[encoded data removed]",
      "text/plain": [
       "<VegaLite 3 object>\n",
       "\n",
       "If you see this message, it means the renderer has not been properly enabled\n",
       "for the frontend that you are using. For more information, see\n",
       "https://altair-viz.github.io/user_guide/troubleshooting.html\n"
      ]
     },
     "execution_count": 9,
     "metadata": {},
     "output_type": "execute_result"
    }
   ],
   "source": [
    "alt.Chart(gapminder).mark_circle().encode(\n",
    "    alt.X(alt.repeat('column'),type='quantitative'),\n",
    "    alt.Y(alt.repeat('row'),type='quantitative'),\n",
    "    color='cluster:N',\n",
    "    tooltip='country'\n",
    ").properties(\n",
    "    width=220,\n",
    "    height=250,\n",
    "\n",
    ").repeat(\n",
    "    row=['income','health','population'],\n",
    "    column=['income','health','population']\n",
    ")"
   ]
  },
  {
   "cell_type": "markdown",
   "metadata": {
    "Collapsed": "true"
   },
   "source": [
    "### 4. Regla del codo (1 pto)"
   ]
  },
  {
   "cell_type": "markdown",
   "metadata": {
    "Collapsed": "false"
   },
   "source": [
    "__¿Cómo escoger la mejor cantidad de _clusters_?__\n",
    "\n",
    "En este ejercicio hemos utilizado que el número de clusters es igual a 3. El ajuste del modelo siempre será mejor al aumentar el número de clusters, pero ello no significa que el número de clusters sea el apropiado. De hecho, si tenemos que ajustar $n$ puntos, claramente tomar $n$ clusters generaría un ajuste perfecto, pero no permitiría representar si existen realmente agrupaciones de datos.\n",
    "\n",
    "Cuando no se conoce el número de clusters a priori, se utiliza la [regla del codo](https://jarroba.com/seleccion-del-numero-optimo-clusters/), que indica que el número más apropiado es aquel donde \"cambia la pendiente\" de decrecimiento de la la suma de las distancias a los clusters para cada punto, en función del número de clusters.\n",
    "\n",
    "A continuación se provee el código para el caso de clustering sobre los datos estandarizados, leídos directamente de un archivo preparado especialmente."
   ]
  },
  {
   "cell_type": "code",
   "execution_count": 10,
   "metadata": {
    "Collapsed": "false"
   },
   "outputs": [],
   "source": [
    "elbow = pd.Series(name=\"inertia\").rename_axis(index=\"k\")\n",
    "for k in range(1, 10):\n",
    "    kmeans = KMeans(n_clusters=k, random_state=42).fit(X)\n",
    "    elbow.loc[k] = kmeans.inertia_ # Inertia: Sum of distances of samples to their closest cluster center\n",
    "elbow = elbow.reset_index()"
   ]
  },
  {
   "cell_type": "code",
   "execution_count": 11,
   "metadata": {
    "Collapsed": "false"
   },
   "outputs": [
    {
     "data": {
      "application/vnd.vegalite.v3+json": {
       "$schema": "https://vega.github.io/schema/vega-lite/v3.4.0.json",
       "config": {
        "background": "white",
        "mark": {
         "tooltip": null
        },
        "view": {
         "height": 300,
         "width": 400
        }
       },
       "data": {
        "name": "data-925b700c72f2cab13ae30f5bbf320352"
       },
       "datasets": {
        "data-925b700c72f2cab13ae30f5bbf320352": [
         {
          "inertia": 561,
          "k": 1
         },
         {
          "inertia": 364.76474204658734,
          "k": 2
         },
         {
          "inertia": 196.34136229738849,
          "k": 3
         },
         {
          "inertia": 109.4566355852737,
          "k": 4
         },
         {
          "inertia": 80.72269980181574,
          "k": 5
         },
         {
          "inertia": 65.54301956986744,
          "k": 6
         },
         {
          "inertia": 56.22094244777031,
          "k": 7
         },
         {
          "inertia": 49.30378278275746,
          "k": 8
         },
         {
          "inertia": 43.11455562778636,
          "k": 9
         }
        ]
       },
       "encoding": {
        "x": {
         "field": "k",
         "type": "ordinal"
        },
        "y": {
         "field": "inertia",
         "type": "quantitative"
        }
       },
       "height": 600,
       "mark": {
        "point": true,
        "type": "line"
       },
       "width": 800
      },
      "image/png": "[encoded data removed]",
      "text/plain": [
       "<VegaLite 3 object>\n",
       "\n",
       "If you see this message, it means the renderer has not been properly enabled\n",
       "for the frontend that you are using. For more information, see\n",
       "https://altair-viz.github.io/user_guide/troubleshooting.html\n"
      ]
     },
     "execution_count": 11,
     "metadata": {},
     "output_type": "execute_result"
    }
   ],
   "source": [
    "alt.Chart(elbow).mark_line(point=True).encode(\n",
    "    x=\"k:O\",\n",
    "    y=\"inertia:Q\"\n",
    ").properties(\n",
    "    height=600,\n",
    "    width=800\n",
    ")"
   ]
  },
  {
   "cell_type": "markdown",
   "metadata": {
    "Collapsed": "false"
   },
   "source": [
    "__Pregunta__\n",
    "\n",
    "Considerando los datos (países) y el gráfico anterior, ¿Cuántos clusters escogerías?"
   ]
  },
  {
   "cell_type": "markdown",
   "metadata": {
    "Collapsed": "false"
   },
   "source": [
    "Escogería 5 clusters, pues es claro que el cambio de pendiente no es relevante para una mayor cantidad"
   ]
  },
  {
   "cell_type": "code",
   "execution_count": 12,
   "metadata": {},
   "outputs": [],
   "source": [
    "k = 5\n",
    "kmeans =KMeans(n_clusters=k,random_state=42)\n",
    "kmeans.fit(X)\n",
    "clusters = kmeans.labels_\n",
    "gapminder=gapminder.assign(cluster=clusters)"
   ]
  },
  {
   "cell_type": "code",
   "execution_count": 13,
   "metadata": {},
   "outputs": [
    {
     "data": {
      "application/vnd.vegalite.v3+json": {
       "$schema": "https://vega.github.io/schema/vega-lite/v3.4.0.json",
       "config": {
        "background": "white",
        "mark": {
         "tooltip": null
        },
        "view": {
         "height": 300,
         "width": 400
        }
       },
       "datasets": {
        "data-711aac35f8bdefa89aa31f834c2d61b8": [
         {
          "cluster": 4,
          "country": "Afghanistan",
          "health": 57.63,
          "income": 1925,
          "population": 32526562
         },
         {
          "cluster": 0,
          "country": "Albania",
          "health": 76,
          "income": 10620,
          "population": 2896679
         },
         {
          "cluster": 0,
          "country": "Algeria",
          "health": 76.5,
          "income": 13434,
          "population": 39666519
         },
         {
          "cluster": 1,
          "country": "Andorra",
          "health": 84.1,
          "income": 46577,
          "population": 70473
         },
         {
          "cluster": 4,
          "country": "Angola",
          "health": 61,
          "income": 7615,
          "population": 25021974
         },
         {
          "cluster": 0,
          "country": "Antigua and Barbuda",
          "health": 75.2,
          "income": 21049,
          "population": 91818
         },
         {
          "cluster": 0,
          "country": "Argentina",
          "health": 76.2,
          "income": 17344,
          "population": 43416755
         },
         {
          "cluster": 0,
          "country": "Armenia",
          "health": 74.4,
          "income": 7763,
          "population": 3017712
         },
         {
          "cluster": 1,
          "country": "Australia",
          "health": 81.8,
          "income": 44056,
          "population": 23968973
         },
         {
          "cluster": 1,
          "country": "Austria",
          "health": 81,
          "income": 44401,
          "population": 8544586
         },
         {
          "cluster": 0,
          "country": "Azerbaijan",
          "health": 72.9,
          "income": 16986,
          "population": 9753968
         },
         {
          "cluster": 0,
          "country": "Bahamas",
          "health": 72.3,
          "income": 22818,
          "population": 388019
         },
         {
          "cluster": 1,
          "country": "Bahrain",
          "health": 79.2,
          "income": 44138,
          "population": 1377237
         },
         {
          "cluster": 0,
          "country": "Bangladesh",
          "health": 70.1,
          "income": 3161,
          "population": 160995642
         },
         {
          "cluster": 0,
          "country": "Barbados",
          "health": 75.8,
          "income": 12984,
          "population": 284215
         },
         {
          "cluster": 0,
          "country": "Belarus",
          "health": 70.4,
          "income": 17415,
          "population": 9495826
         },
         {
          "cluster": 1,
          "country": "Belgium",
          "health": 80.4,
          "income": 41240,
          "population": 11299192
         },
         {
          "cluster": 0,
          "country": "Belize",
          "health": 70,
          "income": 8501,
          "population": 359287
         },
         {
          "cluster": 4,
          "country": "Benin",
          "health": 65.5,
          "income": 1830,
          "population": 10879829
         },
         {
          "cluster": 0,
          "country": "Bhutan",
          "health": 70.2,
          "income": 7983,
          "population": 774830
         },
         {
          "cluster": 0,
          "country": "Bolivia",
          "health": 72.3,
          "income": 6295,
          "population": 10724705
         },
         {
          "cluster": 0,
          "country": "Bosnia and Herzegovina",
          "health": 77.9,
          "income": 9833,
          "population": 3810416
         },
         {
          "cluster": 4,
          "country": "Botswana",
          "health": 66.4,
          "income": 17196,
          "population": 2262485
         },
         {
          "cluster": 0,
          "country": "Brazil",
          "health": 75.6,
          "income": 15441,
          "population": 207847528
         },
         {
          "cluster": 2,
          "country": "Brunei",
          "health": 78.7,
          "income": 73003,
          "population": 423188
         },
         {
          "cluster": 0,
          "country": "Bulgaria",
          "health": 74.9,
          "income": 16371,
          "population": 7149787
         },
         {
          "cluster": 4,
          "country": "Burkina Faso",
          "health": 62.8,
          "income": 1654,
          "population": 18105570
         },
         {
          "cluster": 4,
          "country": "Burundi",
          "health": 60.4,
          "income": 777,
          "population": 11178921
         },
         {
          "cluster": 4,
          "country": "Cambodia",
          "health": 68.4,
          "income": 3267,
          "population": 15577899
         },
         {
          "cluster": 4,
          "country": "Cameroon",
          "health": 59.5,
          "income": 2897,
          "population": 23344179
         },
         {
          "cluster": 1,
          "country": "Canada",
          "health": 81.7,
          "income": 43294,
          "population": 35939927
         },
         {
          "cluster": 0,
          "country": "Cape Verde",
          "health": 74.6,
          "income": 6514,
          "population": 520502
         },
         {
          "cluster": 4,
          "country": "Central African Republic",
          "health": 53.8,
          "income": 599,
          "population": 4900274
         },
         {
          "cluster": 4,
          "country": "Chad",
          "health": 57.7,
          "income": 2191,
          "population": 14037472
         },
         {
          "cluster": 0,
          "country": "Chile",
          "health": 79.3,
          "income": 22465,
          "population": 17948141
         },
         {
          "cluster": 3,
          "country": "China",
          "health": 76.9,
          "income": 13334,
          "population": 1376048943
         },
         {
          "cluster": 0,
          "country": "Colombia",
          "health": 75.8,
          "income": 12761,
          "population": 48228704
         },
         {
          "cluster": 4,
          "country": "Comoros",
          "health": 64.1,
          "income": 1472,
          "population": 788474
         },
         {
          "cluster": 4,
          "country": "Congo, Dem. Rep.",
          "health": 58.3,
          "income": 809,
          "population": 77266814
         },
         {
          "cluster": 4,
          "country": "Congo, Rep.",
          "health": 61.9,
          "income": 6220,
          "population": 4620330
         },
         {
          "cluster": 0,
          "country": "Costa Rica",
          "health": 80,
          "income": 14132,
          "population": 4807850
         },
         {
          "cluster": 4,
          "country": "Cote d'Ivoire",
          "health": 60.33,
          "income": 3491,
          "population": 22701556
         },
         {
          "cluster": 0,
          "country": "Croatia",
          "health": 78,
          "income": 20260,
          "population": 4240317
         },
         {
          "cluster": 0,
          "country": "Cuba",
          "health": 78.5,
          "income": 21291,
          "population": 11389562
         },
         {
          "cluster": 1,
          "country": "Cyprus",
          "health": 82.6,
          "income": 29797,
          "population": 1165300
         },
         {
          "cluster": 1,
          "country": "Czech Republic",
          "health": 78.6,
          "income": 29437,
          "population": 10543186
         },
         {
          "cluster": 1,
          "country": "Denmark",
          "health": 80.1,
          "income": 43495,
          "population": 5669081
         },
         {
          "cluster": 4,
          "country": "Djibouti",
          "health": 64.63,
          "income": 3139,
          "population": 887861
         },
         {
          "cluster": 0,
          "country": "Dominica",
          "health": 74.6,
          "income": 10503,
          "population": 72680
         },
         {
          "cluster": 0,
          "country": "Dominican Republic",
          "health": 73.8,
          "income": 12837,
          "population": 10528391
         },
         {
          "cluster": 0,
          "country": "Ecuador",
          "health": 75.2,
          "income": 10996,
          "population": 16144363
         },
         {
          "cluster": 0,
          "country": "Egypt",
          "health": 71.3,
          "income": 11031,
          "population": 91508084
         },
         {
          "cluster": 0,
          "country": "El Salvador",
          "health": 74.1,
          "income": 7776,
          "population": 6126583
         },
         {
          "cluster": 4,
          "country": "Equatorial Guinea",
          "health": 60.63,
          "income": 31087,
          "population": 845060
         },
         {
          "cluster": 4,
          "country": "Eritrea",
          "health": 62.9,
          "income": 1129,
          "population": 5227791
         },
         {
          "cluster": 0,
          "country": "Estonia",
          "health": 76.8,
          "income": 26812,
          "population": 1312558
         },
         {
          "cluster": 4,
          "country": "Ethiopia",
          "health": 63.6,
          "income": 1520,
          "population": 99390750
         },
         {
          "cluster": 4,
          "country": "Fiji",
          "health": 66.3,
          "income": 7925,
          "population": 892145
         },
         {
          "cluster": 1,
          "country": "Finland",
          "health": 80.8,
          "income": 38923,
          "population": 5503457
         },
         {
          "cluster": 1,
          "country": "France",
          "health": 81.9,
          "income": 37599,
          "population": 64395345
         },
         {
          "cluster": 4,
          "country": "Gabon",
          "health": 60.53,
          "income": 18627,
          "population": 1725292
         },
         {
          "cluster": 4,
          "country": "Gambia",
          "health": 65.1,
          "income": 1644,
          "population": 1990924
         },
         {
          "cluster": 0,
          "country": "Georgia",
          "health": 73.3,
          "income": 7474,
          "population": 3999812
         },
         {
          "cluster": 1,
          "country": "Germany",
          "health": 81.1,
          "income": 44053,
          "population": 80688545
         },
         {
          "cluster": 4,
          "country": "Ghana",
          "health": 65.5,
          "income": 4099,
          "population": 27409893
         },
         {
          "cluster": 1,
          "country": "Greece",
          "health": 79.8,
          "income": 25430,
          "population": 10954617
         },
         {
          "cluster": 0,
          "country": "Grenada",
          "health": 71.7,
          "income": 11593,
          "population": 106825
         },
         {
          "cluster": 0,
          "country": "Guatemala",
          "health": 73.1,
          "income": 7279,
          "population": 16342897
         },
         {
          "cluster": 4,
          "country": "Guinea",
          "health": 60.8,
          "income": 1225,
          "population": 12608590
         },
         {
          "cluster": 4,
          "country": "Guinea-Bissau",
          "health": 53.4,
          "income": 1386,
          "population": 1844325
         },
         {
          "cluster": 4,
          "country": "Guyana",
          "health": 64.4,
          "income": 6816,
          "population": 767085
         },
         {
          "cluster": 4,
          "country": "Haiti",
          "health": 65.3,
          "income": 1710,
          "population": 10711067
         },
         {
          "cluster": 0,
          "country": "Honduras",
          "health": 72.4,
          "income": 4270,
          "population": 8075060
         },
         {
          "cluster": 0,
          "country": "Hungary",
          "health": 76.2,
          "income": 24200,
          "population": 9855023
         },
         {
          "cluster": 1,
          "country": "Iceland",
          "health": 82.8,
          "income": 42182,
          "population": 329425
         },
         {
          "cluster": 3,
          "country": "India",
          "health": 66.8,
          "income": 5903,
          "population": 1311050527
         },
         {
          "cluster": 0,
          "country": "Indonesia",
          "health": 70.9,
          "income": 10504,
          "population": 257563815
         },
         {
          "cluster": 0,
          "country": "Iran",
          "health": 78.5,
          "income": 15573,
          "population": 79109272
         },
         {
          "cluster": 0,
          "country": "Iraq",
          "health": 72.1,
          "income": 14646,
          "population": 36423395
         },
         {
          "cluster": 1,
          "country": "Ireland",
          "health": 80.4,
          "income": 47758,
          "population": 4688465
         },
         {
          "cluster": 1,
          "country": "Israel",
          "health": 82.4,
          "income": 31590,
          "population": 8064036
         },
         {
          "cluster": 1,
          "country": "Italy",
          "health": 82.1,
          "income": 33297,
          "population": 59797685
         },
         {
          "cluster": 0,
          "country": "Jamaica",
          "health": 75.5,
          "income": 8606,
          "population": 2793335
         },
         {
          "cluster": 1,
          "country": "Japan",
          "health": 83.5,
          "income": 36162,
          "population": 126573481
         },
         {
          "cluster": 0,
          "country": "Jordan",
          "health": 78.3,
          "income": 11752,
          "population": 7594547
         },
         {
          "cluster": 0,
          "country": "Kazakhstan",
          "health": 68.2,
          "income": 23468,
          "population": 17625226
         },
         {
          "cluster": 4,
          "country": "Kenya",
          "health": 66.63,
          "income": 2898,
          "population": 46050302
         },
         {
          "cluster": 4,
          "country": "Kiribati",
          "health": 62.4,
          "income": 1824,
          "population": 112423
         },
         {
          "cluster": 2,
          "country": "Kuwait",
          "health": 80.7,
          "income": 82633,
          "population": 3892115
         },
         {
          "cluster": 0,
          "country": "Kyrgyz Republic",
          "health": 69,
          "income": 3245,
          "population": 5939962
         },
         {
          "cluster": 4,
          "country": "Lao",
          "health": 66.4,
          "income": 5212,
          "population": 6802023
         },
         {
          "cluster": 0,
          "country": "Latvia",
          "health": 75.7,
          "income": 23282,
          "population": 1970503
         },
         {
          "cluster": 0,
          "country": "Lebanon",
          "health": 78.5,
          "income": 17050,
          "population": 5850743
         },
         {
          "cluster": 4,
          "country": "Lesotho",
          "health": 48.5,
          "income": 2598,
          "population": 2135022
         },
         {
          "cluster": 4,
          "country": "Liberia",
          "health": 63.9,
          "income": 958,
          "population": 4503438
         },
         {
          "cluster": 0,
          "country": "Libya",
          "health": 76.2,
          "income": 17261,
          "population": 6278438
         },
         {
          "cluster": 0,
          "country": "Lithuania",
          "health": 75.4,
          "income": 26665,
          "population": 2878405
         },
         {
          "cluster": 2,
          "country": "Luxembourg",
          "health": 81.1,
          "income": 88314,
          "population": 567110
         },
         {
          "cluster": 0,
          "country": "Macedonia, FYR",
          "health": 77,
          "income": 12547,
          "population": 2078453
         },
         {
          "cluster": 4,
          "country": "Madagascar",
          "health": 64.7,
          "income": 1400,
          "population": 24235390
         },
         {
          "cluster": 4,
          "country": "Malawi",
          "health": 60.22,
          "income": 799,
          "population": 17215232
         },
         {
          "cluster": 0,
          "country": "Malaysia",
          "health": 75.1,
          "income": 24320,
          "population": 30331007
         },
         {
          "cluster": 0,
          "country": "Maldives",
          "health": 79.5,
          "income": 14408,
          "population": 363657
         },
         {
          "cluster": 4,
          "country": "Mali",
          "health": 57.6,
          "income": 1684,
          "population": 17599694
         },
         {
          "cluster": 1,
          "country": "Malta",
          "health": 82.1,
          "income": 30265,
          "population": 418670
         },
         {
          "cluster": 4,
          "country": "Marshall Islands",
          "health": 65.1,
          "income": 3661,
          "population": 52993
         },
         {
          "cluster": 4,
          "country": "Mauritania",
          "health": 65.7,
          "income": 3877,
          "population": 4067564
         },
         {
          "cluster": 0,
          "country": "Mauritius",
          "health": 73.9,
          "income": 18350,
          "population": 1273212
         },
         {
          "cluster": 0,
          "country": "Mexico",
          "health": 74.5,
          "income": 16850,
          "population": 127017224
         },
         {
          "cluster": 4,
          "country": "Micronesia, Fed. Sts.",
          "health": 67,
          "income": 3510,
          "population": 104460
         },
         {
          "cluster": 0,
          "country": "Moldova",
          "health": 72.7,
          "income": 4896,
          "population": 4068897
         },
         {
          "cluster": 4,
          "country": "Mongolia",
          "health": 65.3,
          "income": 11819,
          "population": 2959134
         },
         {
          "cluster": 0,
          "country": "Montenegro",
          "health": 75.8,
          "income": 14833,
          "population": 625781
         },
         {
          "cluster": 0,
          "country": "Morocco",
          "health": 74.7,
          "income": 7319,
          "population": 34377511
         },
         {
          "cluster": 4,
          "country": "Mozambique",
          "health": 56.4,
          "income": 1176,
          "population": 27977863
         },
         {
          "cluster": 4,
          "country": "Myanmar",
          "health": 67.9,
          "income": 4012,
          "population": 53897154
         },
         {
          "cluster": 4,
          "country": "Namibia",
          "health": 61,
          "income": 10040,
          "population": 2458830
         },
         {
          "cluster": 0,
          "country": "Nepal",
          "health": 71.2,
          "income": 2352,
          "population": 28513700
         },
         {
          "cluster": 1,
          "country": "Netherlands",
          "health": 80.6,
          "income": 45784,
          "population": 16924929
         },
         {
          "cluster": 1,
          "country": "New Zealand",
          "health": 80.6,
          "income": 34186,
          "population": 4528526
         },
         {
          "cluster": 0,
          "country": "Nicaragua",
          "health": 76.8,
          "income": 4712,
          "population": 6082032
         },
         {
          "cluster": 4,
          "country": "Niger",
          "health": 62.2,
          "income": 943,
          "population": 19899120
         },
         {
          "cluster": 4,
          "country": "Nigeria",
          "health": 61.33,
          "income": 5727,
          "population": 182201962
         },
         {
          "cluster": 0,
          "country": "North Korea",
          "health": 71.4,
          "income": 1390,
          "population": 25155317
         },
         {
          "cluster": 1,
          "country": "Norway",
          "health": 81.6,
          "income": 64304,
          "population": 5210967
         },
         {
          "cluster": 1,
          "country": "Oman",
          "health": 75.7,
          "income": 48226,
          "population": 4490541
         },
         {
          "cluster": 4,
          "country": "Pakistan",
          "health": 66.5,
          "income": 4743,
          "population": 188924874
         },
         {
          "cluster": 0,
          "country": "Panama",
          "health": 78.2,
          "income": 20485,
          "population": 3929141
         },
         {
          "cluster": 4,
          "country": "Papua New Guinea",
          "health": 60.6,
          "income": 2529,
          "population": 7619321
         },
         {
          "cluster": 0,
          "country": "Paraguay",
          "health": 73.9,
          "income": 8219,
          "population": 6639123
         },
         {
          "cluster": 0,
          "country": "Peru",
          "health": 77.5,
          "income": 11903,
          "population": 31376670
         },
         {
          "cluster": 0,
          "country": "Philippines",
          "health": 70.2,
          "income": 6876,
          "population": 100699395
         },
         {
          "cluster": 0,
          "country": "Poland",
          "health": 77.3,
          "income": 24787,
          "population": 38611794
         },
         {
          "cluster": 1,
          "country": "Portugal",
          "health": 79.8,
          "income": 26437,
          "population": 10349803
         },
         {
          "cluster": 2,
          "country": "Qatar",
          "health": 82,
          "income": 132877,
          "population": 2235355
         },
         {
          "cluster": 0,
          "country": "Romania",
          "health": 76.8,
          "income": 19203,
          "population": 19511324
         },
         {
          "cluster": 0,
          "country": "Russia",
          "health": 73.13,
          "income": 23038,
          "population": 143456918
         },
         {
          "cluster": 4,
          "country": "Rwanda",
          "health": 66.53,
          "income": 1549,
          "population": 11609666
         },
         {
          "cluster": 0,
          "country": "Samoa",
          "health": 72.2,
          "income": 5558,
          "population": 193228
         },
         {
          "cluster": 4,
          "country": "Sao Tome and Principe",
          "health": 68.8,
          "income": 3003,
          "population": 190344
         },
         {
          "cluster": 1,
          "country": "Saudi Arabia",
          "health": 78.1,
          "income": 52469,
          "population": 31540372
         },
         {
          "cluster": 4,
          "country": "Senegal",
          "health": 66.1,
          "income": 2251,
          "population": 15129273
         },
         {
          "cluster": 0,
          "country": "Serbia",
          "health": 78.1,
          "income": 12908,
          "population": 8850975
         },
         {
          "cluster": 0,
          "country": "Seychelles",
          "health": 73.7,
          "income": 25684,
          "population": 96471
         },
         {
          "cluster": 4,
          "country": "Sierra Leone",
          "health": 58.5,
          "income": 2085,
          "population": 6453184
         },
         {
          "cluster": 2,
          "country": "Singapore",
          "health": 82.1,
          "income": 80794,
          "population": 5603740
         },
         {
          "cluster": 0,
          "country": "Slovak Republic",
          "health": 76.4,
          "income": 27204,
          "population": 5426258
         },
         {
          "cluster": 1,
          "country": "Slovenia",
          "health": 80.2,
          "income": 28550,
          "population": 2067526
         },
         {
          "cluster": 4,
          "country": "Solomon Islands",
          "health": 64.1,
          "income": 2047,
          "population": 583591
         },
         {
          "cluster": 4,
          "country": "Somalia",
          "health": 58.7,
          "income": 624,
          "population": 10787104
         },
         {
          "cluster": 4,
          "country": "South Africa",
          "health": 63.72,
          "income": 12509,
          "population": 54490406
         },
         {
          "cluster": 1,
          "country": "South Korea",
          "health": 80.7,
          "income": 34644,
          "population": 50293439
         },
         {
          "cluster": 4,
          "country": "South Sudan",
          "health": 58,
          "income": 3047,
          "population": 12339812
         },
         {
          "cluster": 1,
          "country": "Spain",
          "health": 81.7,
          "income": 32979,
          "population": 46121699
         },
         {
          "cluster": 0,
          "country": "Sri Lanka",
          "health": 76.5,
          "income": 10624,
          "population": 20715010
         },
         {
          "cluster": 0,
          "country": "St. Lucia",
          "health": 74.5,
          "income": 9997,
          "population": 184999
         },
         {
          "cluster": 0,
          "country": "St. Vincent and the Grenadines",
          "health": 72.9,
          "income": 10435,
          "population": 109462
         },
         {
          "cluster": 0,
          "country": "Sudan",
          "health": 69.5,
          "income": 3975,
          "population": 40234882
         },
         {
          "cluster": 0,
          "country": "Suriname",
          "health": 70.5,
          "income": 17125,
          "population": 542975
         },
         {
          "cluster": 4,
          "country": "Swaziland",
          "health": 51.5,
          "income": 6095,
          "population": 1286970
         },
         {
          "cluster": 1,
          "country": "Sweden",
          "health": 82,
          "income": 44892,
          "population": 9779426
         },
         {
          "cluster": 1,
          "country": "Switzerland",
          "health": 82.9,
          "income": 56118,
          "population": 8298663
         },
         {
          "cluster": 0,
          "country": "Syria",
          "health": 70.26,
          "income": 4637,
          "population": 18502413
         },
         {
          "cluster": 0,
          "country": "Tajikistan",
          "health": 71,
          "income": 2582,
          "population": 8481855
         },
         {
          "cluster": 4,
          "country": "Tanzania",
          "health": 63.43,
          "income": 2571,
          "population": 53470420
         },
         {
          "cluster": 0,
          "country": "Thailand",
          "health": 75.1,
          "income": 14512,
          "population": 67959359
         },
         {
          "cluster": 0,
          "country": "Timor-Leste",
          "health": 72.4,
          "income": 2086,
          "population": 1184765
         },
         {
          "cluster": 4,
          "country": "Togo",
          "health": 64.23,
          "income": 1433,
          "population": 7304578
         },
         {
          "cluster": 0,
          "country": "Tonga",
          "health": 70.5,
          "income": 5069,
          "population": 106170
         },
         {
          "cluster": 0,
          "country": "Trinidad and Tobago",
          "health": 71.4,
          "income": 30113,
          "population": 1360088
         },
         {
          "cluster": 0,
          "country": "Tunisia",
          "health": 77.3,
          "income": 11126,
          "population": 11253554
         },
         {
          "cluster": 0,
          "country": "Turkey",
          "health": 76.5,
          "income": 19360,
          "population": 78665830
         },
         {
          "cluster": 0,
          "country": "Turkmenistan",
          "health": 67.9,
          "income": 15865,
          "population": 5373502
         },
         {
          "cluster": 4,
          "country": "Uganda",
          "health": 60.8,
          "income": 1680,
          "population": 39032383
         },
         {
          "cluster": 0,
          "country": "Ukraine",
          "health": 72.1,
          "income": 8449,
          "population": 44823765
         },
         {
          "cluster": 1,
          "country": "United Arab Emirates",
          "health": 76.6,
          "income": 60749,
          "population": 9156963
         },
         {
          "cluster": 1,
          "country": "United Kingdom",
          "health": 81.4,
          "income": 38225,
          "population": 64715810
         },
         {
          "cluster": 1,
          "country": "United States",
          "health": 79.1,
          "income": 53354,
          "population": 321773631
         },
         {
          "cluster": 0,
          "country": "Uruguay",
          "health": 77.3,
          "income": 20438,
          "population": 3431555
         },
         {
          "cluster": 0,
          "country": "Uzbekistan",
          "health": 70.1,
          "income": 5598,
          "population": 29893488
         },
         {
          "cluster": 4,
          "country": "Vanuatu",
          "health": 65,
          "income": 2912,
          "population": 264652
         },
         {
          "cluster": 0,
          "country": "Venezuela",
          "health": 75.8,
          "income": 15753,
          "population": 31108083
         },
         {
          "cluster": 0,
          "country": "Vietnam",
          "health": 76.5,
          "income": 5623,
          "population": 93447601
         },
         {
          "cluster": 0,
          "country": "West Bank and Gaza",
          "health": 75.2,
          "income": 4319,
          "population": 4668466
         },
         {
          "cluster": 4,
          "country": "Yemen",
          "health": 67.6,
          "income": 3887,
          "population": 26832215
         },
         {
          "cluster": 4,
          "country": "Zambia",
          "health": 58.96,
          "income": 4034,
          "population": 16211767
         },
         {
          "cluster": 4,
          "country": "Zimbabwe",
          "health": 60.01,
          "income": 1801,
          "population": 15602751
         }
        ]
       },
       "repeat": {
        "column": [
         "income",
         "health",
         "population"
        ],
        "row": [
         "income",
         "health",
         "population"
        ]
       },
       "spec": {
        "data": {
         "name": "data-711aac35f8bdefa89aa31f834c2d61b8"
        },
        "encoding": {
         "color": {
          "field": "cluster",
          "type": "nominal"
         },
         "tooltip": {
          "field": "country",
          "type": "nominal"
         },
         "x": {
          "field": {
           "repeat": "column"
          },
          "type": "quantitative"
         },
         "y": {
          "field": {
           "repeat": "row"
          },
          "type": "quantitative"
         }
        },
        "height": 200,
        "mark": "circle",
        "width": 220
       }
      },
      "image/png": "[encoded data removed]",
      "text/plain": [
       "<VegaLite 3 object>\n",
       "\n",
       "If you see this message, it means the renderer has not been properly enabled\n",
       "for the frontend that you are using. For more information, see\n",
       "https://altair-viz.github.io/user_guide/troubleshooting.html\n"
      ]
     },
     "execution_count": 13,
     "metadata": {},
     "output_type": "execute_result"
    }
   ],
   "source": [
    "alt.Chart(gapminder).mark_circle().encode(\n",
    "    alt.X(alt.repeat('column'), type='quantitative'),\n",
    "    alt.Y(alt.repeat('row'), type='quantitative'),\n",
    "    color='cluster:N',\n",
    "    tooltip='country'\n",
    ").properties(\n",
    "    width=220 , \n",
    "    height=200\n",
    ").repeat(\n",
    "    row=['income','health','population'],\n",
    "    column=['income','health','population']\n",
    ")"
   ]
  }
 ],
 "metadata": {
  "celltoolbar": "Slideshow",
  "kernelspec": {
   "display_name": "Python 3",
   "language": "python",
   "name": "python3"
  },
  "language_info": {
   "codemirror_mode": {
    "name": "ipython",
    "version": 3
   },
   "file_extension": ".py",
   "mimetype": "text/x-python",
   "name": "python",
   "nbconvert_exporter": "python",
   "pygments_lexer": "ipython3",
   "version": "3.7.3"
  }
 },
 "nbformat": 4,
 "nbformat_minor": 4
}
