{
 "cells": [
  {
   "cell_type": "markdown",
   "metadata": {
    "slideshow": {
     "slide_type": "slide"
    }
   },
   "source": [
    "<img src=\"https://upload.wikimedia.org/wikipedia/commons/4/47/Logo_UTFSM.png\" width=\"200\" alt=\"utfsm-logo\" align=\"left\"/>\n",
    "\n",
    "# MAT281\n",
    "### Aplicaciones de la Matemática en la Ingeniería"
   ]
  },
  {
   "cell_type": "markdown",
   "metadata": {
    "slideshow": {
     "slide_type": "slide"
    }
   },
   "source": [
    "## Módulo 02\n",
    "## Clase 06: Desarrollo de Algoritmos"
   ]
  },
  {
   "cell_type": "markdown",
   "metadata": {
    "slideshow": {
     "slide_type": "slide"
    }
   },
   "source": [
    "## Objetivos\n",
    "\n",
    "* Conocer las etapas al desarrollar un algoritmo\n",
    "* Aprender a empaquetar funciones y objetos.\n",
    "* Conocer las funciones más eficientes"
   ]
  },
  {
   "cell_type": "markdown",
   "metadata": {
    "slideshow": {
     "slide_type": "subslide"
    }
   },
   "source": [
    "## Contenidos\n",
    "* [Desarrollo de Software](#soft_dev)\n",
    "* [Módulos en Python](#modules)\n",
    "* [Fast-Pandas](#fast-pandas)"
   ]
  },
  {
   "cell_type": "markdown",
   "metadata": {
    "slideshow": {
     "slide_type": "slide"
    }
   },
   "source": [
    "<a id='soft_dev'></a>\n",
    "## Desarrollo de Software\n",
    "\n",
    "A la hora de desarrollar software (de todo tipo, ya sea, aplicaciones móviles, aplicaciones web, librerías, etc.) se dispone de una serie de etapas para una correcta puesta en marcha. Estas etapas típicamente están caracterizadas por el ambiente en el que se ejecutan."
   ]
  },
  {
   "cell_type": "markdown",
   "metadata": {
    "slideshow": {
     "slide_type": "slide"
    }
   },
   "source": [
    "### Ejemplo\n",
    "\n",
    "Considera que estás desarrollando un algoritmo de reconocimiento facial que luego agranda tus ojos y agrega pecas, todo con la finalidad de crear un _nuevo_ filtro para Instagram. Los ambientes de desarrollo serían:\n",
    "\n",
    "* __Local:__ Tu propio computador, donde desarrollas el algoritmo y haces las primeras pruebas, con un par de fotos o videos, nada muy costoso computacionalmente.\n",
    "* __Development:__ Servidor con acceso a los desarrolladores, ya sea de _backend_, _frontend_, _data base_, _integration_, _algorithmic_. En esta etapa ya es necesario que todas las partes del producto se comuniquen entre ellas. Por ejemplo, que al hacer click en el filtro el algoritmo se ejecute. Aquí se pueden hacer pruebas sin miedo a que el producto deje de funcionar por cambios en el código.\n",
    "* __Test:__ Un servidor con acceso solo para tu equipo de trabajo, en el que harán pruebas de estress, ya sea para el algoritmo como para la aplicación. \n",
    "* __QA:__ En ocasiones se disponibiliza un servidor con acceso al usuario final, con tal que el pueda realizar pruebas. Esto con la finalidad de evitar el sesgo del equipo que desarrolló el producto.\n",
    "* __Production:__ Servidor final, donde todos los usuarios utilizan el producto. Debe ser capaz de soportar todas las pruebas anteriores y la cantidad de usuarios para la que fue desarrollado. Por ejemplo, debe soportar que millones de personas utilizen el filtro al mismo tiempo."
   ]
  },
  {
   "cell_type": "markdown",
   "metadata": {
    "slideshow": {
     "slide_type": "slide"
    }
   },
   "source": [
    "<a id='modules'></a>\n",
    "## Módulos en Python\n",
    "\n",
    "Como matemático, es muy probable que el día de mañana debas desarrollar un algoritmo, en `Python` la forma de reutilizar y compartir código es a partir de _Modules_ y _Packages_. De la [documentación oficial](https://docs.python.org/3/tutorial/modules.html) tenemos que:\n",
    "\n",
    "* __Module__: A module is a file containing Python definitions and statements. The file name is the module name with the suffix `.py` appended.\n",
    "* __Package__: Packages are a way of structuring Python’s module namespace by using “dotted module names”.\n",
    "\n",
    "Un ejemplo de módulo es el archivo `Benchmarker.py` en el directorio `fast_pandas`. En el que se define una clase `Benchmarker` que cuenta con métodos para realizar _benchmarks_ de funciones que se aplican a dataframes de `pandas`. Veámoslo!\n",
    "\n",
    "Un ejemplo de paquete es pandas, al tenerlo instalado es posible acceder a él y a la colección de módulos que posee. \n",
    "\n",
    "A continuación veremos un directorio de un proyecto, en el que se crea un paquete con la posibilidad de instalarlo."
   ]
  },
  {
   "cell_type": "markdown",
   "metadata": {
    "slideshow": {
     "slide_type": "slide"
    }
   },
   "source": [
    "<a id='modules'></a>\n",
    "## Fast-Pandas\n",
    "\n",
    "Esta sección está basada en el repositorio https://github.com/mm-mansour/Fast-Pandas, donde se analizan diferentes tareas realizadas de diferente manera, en muchas ocasiones se comparan las funciones por defecto de `pandas` vs `numpy`. "
   ]
  },
  {
   "cell_type": "code",
   "execution_count": 1,
   "metadata": {},
   "outputs": [],
   "source": [
    "import os\n",
    "import numpy as np\n",
    "import pandas as pd"
   ]
  },
  {
   "cell_type": "markdown",
   "metadata": {},
   "source": [
    "Utilizaremos como ejemplo un dataset de gasto fiscal neto en Chile, obtenidos de una [datathon de DataCampfire](https://datacampfire.com/datathon/)."
   ]
  },
  {
   "cell_type": "code",
   "execution_count": 2,
   "metadata": {},
   "outputs": [
    {
     "data": {
      "text/html": [
       "<div>\n",
       "<style scoped>\n",
       "    .dataframe tbody tr th:only-of-type {\n",
       "        vertical-align: middle;\n",
       "    }\n",
       "\n",
       "    .dataframe tbody tr th {\n",
       "        vertical-align: top;\n",
       "    }\n",
       "\n",
       "    .dataframe thead th {\n",
       "        text-align: right;\n",
       "    }\n",
       "</style>\n",
       "<table border=\"1\" class=\"dataframe\">\n",
       "  <thead>\n",
       "    <tr style=\"text-align: right;\">\n",
       "      <th></th>\n",
       "      <th>anio</th>\n",
       "      <th>mes</th>\n",
       "      <th>partida</th>\n",
       "      <th>capitulo</th>\n",
       "      <th>programa</th>\n",
       "      <th>subtitulo</th>\n",
       "      <th>monto</th>\n",
       "    </tr>\n",
       "  </thead>\n",
       "  <tbody>\n",
       "    <tr>\n",
       "      <td>0</td>\n",
       "      <td>2009</td>\n",
       "      <td>Abril</td>\n",
       "      <td>Congreso Nacional</td>\n",
       "      <td>Biblioteca Del Congreso</td>\n",
       "      <td>Biblioteca Del Congreso</td>\n",
       "      <td>ADQUISICIÓN DE ACTIVOS NO FINANCIEROS</td>\n",
       "      <td>21082</td>\n",
       "    </tr>\n",
       "    <tr>\n",
       "      <td>1</td>\n",
       "      <td>2009</td>\n",
       "      <td>Abril</td>\n",
       "      <td>Congreso Nacional</td>\n",
       "      <td>Biblioteca Del Congreso</td>\n",
       "      <td>Biblioteca Del Congreso</td>\n",
       "      <td>BIENES Y SERVICIOS DE CONSUMO</td>\n",
       "      <td>152607</td>\n",
       "    </tr>\n",
       "    <tr>\n",
       "      <td>2</td>\n",
       "      <td>2009</td>\n",
       "      <td>Abril</td>\n",
       "      <td>Congreso Nacional</td>\n",
       "      <td>Biblioteca Del Congreso</td>\n",
       "      <td>Biblioteca Del Congreso</td>\n",
       "      <td>GASTOS EN PERSONAL</td>\n",
       "      <td>552668</td>\n",
       "    </tr>\n",
       "    <tr>\n",
       "      <td>3</td>\n",
       "      <td>2009</td>\n",
       "      <td>Abril</td>\n",
       "      <td>Congreso Nacional</td>\n",
       "      <td>Biblioteca Del Congreso</td>\n",
       "      <td>Biblioteca Del Congreso</td>\n",
       "      <td>INICIATIVAS DE INVERSIÓN</td>\n",
       "      <td>4741</td>\n",
       "    </tr>\n",
       "    <tr>\n",
       "      <td>4</td>\n",
       "      <td>2009</td>\n",
       "      <td>Abril</td>\n",
       "      <td>Congreso Nacional</td>\n",
       "      <td>Biblioteca Del Congreso</td>\n",
       "      <td>Proyecto Fortalecimiento Institucional</td>\n",
       "      <td>ADQUISICIÓN DE ACTIVOS NO FINANCIEROS</td>\n",
       "      <td>26107</td>\n",
       "    </tr>\n",
       "  </tbody>\n",
       "</table>\n",
       "</div>"
      ],
      "text/plain": [
       "   anio    mes            partida                 capitulo  \\\n",
       "0  2009  Abril  Congreso Nacional  Biblioteca Del Congreso   \n",
       "1  2009  Abril  Congreso Nacional  Biblioteca Del Congreso   \n",
       "2  2009  Abril  Congreso Nacional  Biblioteca Del Congreso   \n",
       "3  2009  Abril  Congreso Nacional  Biblioteca Del Congreso   \n",
       "4  2009  Abril  Congreso Nacional  Biblioteca Del Congreso   \n",
       "\n",
       "                                 programa  \\\n",
       "0                 Biblioteca Del Congreso   \n",
       "1                 Biblioteca Del Congreso   \n",
       "2                 Biblioteca Del Congreso   \n",
       "3                 Biblioteca Del Congreso   \n",
       "4  Proyecto Fortalecimiento Institucional   \n",
       "\n",
       "                               subtitulo   monto  \n",
       "0  ADQUISICIÓN DE ACTIVOS NO FINANCIEROS   21082  \n",
       "1          BIENES Y SERVICIOS DE CONSUMO  152607  \n",
       "2                     GASTOS EN PERSONAL  552668  \n",
       "3               INICIATIVAS DE INVERSIÓN    4741  \n",
       "4  ADQUISICIÓN DE ACTIVOS NO FINANCIEROS   26107  "
      ]
     },
     "execution_count": 2,
     "metadata": {},
     "output_type": "execute_result"
    }
   ],
   "source": [
    "gasto = pd.read_csv(os.path.join(\"data\", \"gasto_fiscal.csv\"), sep=\";\")\n",
    "gasto.head()"
   ]
  },
  {
   "cell_type": "markdown",
   "metadata": {},
   "source": [
    "Las variables corresponden a:\n",
    "\n",
    "* anio: Año del periodo\n",
    "* mes: Mes del periodo\n",
    "* partida: Ministerio\n",
    "* capítulo: Servicio Público\n",
    "* programa: Programa\n",
    "* subtitulo: Primer nivel de clasificación para el presupuesto\n",
    "* monto: Cantidad de millones de pesos chilenos (CLP) actualizada según inflación."
   ]
  },
  {
   "cell_type": "markdown",
   "metadata": {},
   "source": [
    "### Eliminar columnas duplicadas"
   ]
  },
  {
   "cell_type": "markdown",
   "metadata": {},
   "source": [
    "Por ejemplo, si deseamos eliminar filas duplicadas según la columna programa, tenemos varias alternativas, veamos cuanto demoran."
   ]
  },
  {
   "cell_type": "code",
   "execution_count": 3,
   "metadata": {},
   "outputs": [
    {
     "name": "stdout",
     "output_type": "stream",
     "text": [
      "6.16 ms ± 628 µs per loop (mean ± std. dev. of 7 runs, 100 loops each)\n"
     ]
    }
   ],
   "source": [
    "%%timeit\n",
    "gasto[~gasto[\"programa\"].duplicated(keep=\"first\")].reset_index(drop=True)"
   ]
  },
  {
   "cell_type": "code",
   "execution_count": 4,
   "metadata": {},
   "outputs": [
    {
     "name": "stdout",
     "output_type": "stream",
     "text": [
      "25.1 ms ± 236 µs per loop (mean ± std. dev. of 7 runs, 10 loops each)\n"
     ]
    }
   ],
   "source": [
    "%%timeit\n",
    "gasto.drop_duplicates(subset=\"programa\", keep=\"first\").reset_index(drop=True)"
   ]
  },
  {
   "cell_type": "code",
   "execution_count": 5,
   "metadata": {},
   "outputs": [
    {
     "name": "stdout",
     "output_type": "stream",
     "text": [
      "83.3 ms ± 8.79 ms per loop (mean ± std. dev. of 7 runs, 10 loops each)\n"
     ]
    }
   ],
   "source": [
    "%%timeit\n",
    "gasto.groupby(gasto[\"programa\"], as_index=False, sort=False).first()"
   ]
  },
  {
   "cell_type": "markdown",
   "metadata": {},
   "source": [
    "La pregunta natural que surge es:\n",
    "\n",
    "__¿Podemos sacar conclusiones de rendimiento solo con un dataset?__\n",
    "\n",
    "La respuesta, por increíble que parezca, es __NO__. Por lo que utilizaremos la clase `Benchmarker` para realizar las pruebas con distintos tamaños y además entregar información gráfica."
   ]
  },
  {
   "cell_type": "markdown",
   "metadata": {},
   "source": [
    "# %load fast_pandas/benchmark_drop.py\n",
    "from fast_pandas.Benchmarker import Benchmarker  ## Editado\n",
    "\n",
    "\n",
    "def duplicated(df):\n",
    "    return df[~df[\"A\"].duplicated(keep=\"first\")].reset_index(drop=True)\n",
    "\n",
    "\n",
    "def drop_duplicates(df):\n",
    "    return df.drop_duplicates(subset=\"A\", keep=\"first\").reset_index(drop=True)\n",
    "\n",
    "\n",
    "def group_by_drop(df):\n",
    "    return df.groupby(df[\"A\"], as_index=False, sort=False).first()\n",
    "\n",
    "params = {\n",
    "    \"df_generator\": 'pd.DataFrame(np.random.randint(1, df_size, (df_size, 2)), columns=list(\"AB\"))',\n",
    "    \"functions_to_evaluate\": [duplicated, drop_duplicates, group_by_drop],\n",
    "    \"title\": \"Benchmark for dropping duplicate rows\",\n",
    "    \"user_df_size_powers\": [2, 3, 4]  # Editado manualmente con tal de acelear el proceso\n",
    "}\n",
    "\n",
    "benchmark = Benchmarker(**params)\n",
    "benchmark.benchmark_all()\n",
    "benchmark.print_results()\n",
    "benchmark.plot_results()"
   ]
  }
 ],
 "metadata": {
  "celltoolbar": "Slideshow",
  "kernelspec": {
   "display_name": "Python 3",
   "language": "python",
   "name": "python3"
  },
  "language_info": {
   "codemirror_mode": {
    "name": "ipython",
    "version": 3
   },
   "file_extension": ".py",
   "mimetype": "text/x-python",
   "name": "python",
   "nbconvert_exporter": "python",
   "pygments_lexer": "ipython3",
   "version": "3.7.3"
  }
 },
 "nbformat": 4,
 "nbformat_minor": 4
}
